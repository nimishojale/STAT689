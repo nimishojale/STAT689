{
 "cells": [
  {
   "cell_type": "markdown",
   "metadata": {},
   "source": [
    "# Crimes in Atlanta\n",
    "\n",
    "## A Project in R by Nimish Ojale and Sukhada Saoji"
   ]
  },
  {
   "cell_type": "markdown",
   "metadata": {},
   "source": [
    "#### In this project we evaluate the crime data collected from Atlanta Police Department and examine the effects of several location and time-based parameters on the occurrence and type of crime."
   ]
  },
  {
   "cell_type": "markdown",
   "metadata": {},
   "source": [
    "## MOTIVATION\n",
    "\n",
    "#### Atlanta, the capital and most populous city of the state of Georgia, is the 6th most dangerous city in the country according to this report. The rate of crime is more than twice of the national average, with 5203 violent crimes and 25,556 property crimes reported in the year 2015. Our motivation for deciding to work on the data of crimes committed in Atlanta in the previous year was to analyze the distribution of crimes by region, time, and type of crimes committed, among other variables, and try to develop a predictive model towards predicting the type of crime that might be committed given the variables stated above.\n"
   ]
  },
  {
   "cell_type": "markdown",
   "metadata": {},
   "source": [
    "## DATA EXPLORATION\n",
    "\n",
    "#### The data has been collected from Atlanta Police Department’s website. It consists of 26,760 data points, i.e., instances of recorded crimes, and 23 columns consisting of fields related to occurrence of crime, type of crime, location codes, neighborhood in which the crime took place, etc.\n"
   ]
  },
  {
   "cell_type": "code",
   "execution_count": 26,
   "metadata": {
    "collapsed": true
   },
   "outputs": [
    {
     "name": "stderr",
     "output_type": "stream",
     "text": [
      "Warning message:\n",
      "\"package 'e1071' was built under R version 3.4.4\""
     ]
    }
   ],
   "source": [
    "## Loading libraries\n",
    "\n",
    "library('data.table')\n",
    "library('ggplot2')\n",
    "library('lubridate')\n",
    "library('plotly')\n",
    "library('magrittr')\n",
    "library('dplyr')\n",
    "library('tidyverse')\n",
    "library('cluster')    \n",
    "library('factoextra')\n",
    "library('dendextend')\n",
    "library('mlbench')\n",
    "library('caret')\n",
    "library('inTrees')\n",
    "library('randomForest')\n",
    "library('ISLR')\n",
    "library('nnet')\n",
    "library('MASS')\n",
    "library('data.table')\n",
    "library('neuralnet')\n",
    "library('stats')\n",
    "library('mlbench')\n",
    "library('caret')\n",
    "library('inTrees')\n",
    "library('e1071')\n",
    "library('class')"
   ]
  },
  {
   "cell_type": "markdown",
   "metadata": {},
   "source": [
    "#### Loading data and removing null values"
   ]
  },
  {
   "cell_type": "code",
   "execution_count": 32,
   "metadata": {},
   "outputs": [],
   "source": [
    "main = read.csv(\"F:/2018 Spring/STAT689/Project/689_crimes.csv\", header = TRUE, sep = \",\")"
   ]
  },
  {
   "cell_type": "code",
   "execution_count": 33,
   "metadata": {
    "collapsed": true
   },
   "outputs": [
    {
     "data": {
      "text/html": [
       "64"
      ],
      "text/latex": [
       "64"
      ],
      "text/markdown": [
       "64"
      ],
      "text/plain": [
       "[1] 64"
      ]
     },
     "metadata": {},
     "output_type": "display_data"
    }
   ],
   "source": [
    "## Counting number of \"na\" rows in data\n",
    "\n",
    "count = 0\n",
    "\n",
    "for(i in 1:nrow(main)) {\n",
    "    for(j in 1:ncol(main)) {\n",
    "        \n",
    "    if(is.na(main[i,j]) == \"TRUE\") {\n",
    "        count = count + 1\n",
    "    }\n",
    "       }\n",
    "    }\n",
    "\n",
    "count"
   ]
  },
  {
   "cell_type": "code",
   "execution_count": 34,
   "metadata": {
    "collapsed": true
   },
   "outputs": [],
   "source": [
    "## removing rows with null values\n",
    "\n",
    "nullval = matrix(, nrow = 64, ncol = 2)\n",
    "count = 0\n",
    "for(i in 1:nrow(main)) {\n",
    "    for(j in 1:ncol(main)) {\n",
    "        \n",
    "    if(is.na(main[i,j]) == \"TRUE\") {\n",
    "        count = count + 1\n",
    "        nullval[count,1] = i\n",
    "        nullval[count,2] = j\n",
    "    }\n",
    "       }\n",
    "    }\n",
    "\n",
    "main = main[-nullval[,1],]"
   ]
  },
  {
   "cell_type": "code",
   "execution_count": 35,
   "metadata": {
    "collapsed": true
   },
   "outputs": [
    {
     "name": "stderr",
     "output_type": "stream",
     "text": [
      "Selecting by total\n"
     ]
    }
   ],
   "source": [
    "## We focus on the top 25 most crime-ridden neighborhoods\n",
    "\n",
    "neighbor25 = main %>% \n",
    "filter(!is.na(neighborhood)) %>%  \n",
    "group_by(neighborhood) %>% \n",
    "summarise(total=n()) %>% \n",
    "arrange(desc(total)) %>%\n",
    "top_n(25)"
   ]
  },
  {
   "cell_type": "code",
   "execution_count": 36,
   "metadata": {
    "collapsed": true
   },
   "outputs": [],
   "source": [
    "n25 = neighbor25[,1]"
   ]
  },
  {
   "cell_type": "code",
   "execution_count": 37,
   "metadata": {},
   "outputs": [],
   "source": [
    "main25 = main[which(main$neighborhood == \"Downtown\" |\n",
    "                    main$neighborhood == \"Midtown\" |\n",
    "                    main$neighborhood == \"Old Fourth Ward\" |\n",
    "                    main$neighborhood == \"Lindbergh/Morosgo\" |\n",
    "                    main$neighborhood == \"West End\" |\n",
    "                    main$neighborhood == \"Lenox\" |\n",
    "                    main$neighborhood == \"North Buckhead\" |\n",
    "                    main$neighborhood == \"Edgewood\" |\n",
    "                    main$neighborhood == \"Greenbriar\" |\n",
    "                    main$neighborhood == \"Home Park\" |\n",
    "                    main$neighborhood == \"Mechanicsville\" |\n",
    "                    main$neighborhood == \"Princeton Lakes\" |\n",
    "                    main$neighborhood == \"Vine City\" |\n",
    "                    main$neighborhood == \"Sylvan Hills\" |\n",
    "                    main$neighborhood == \"Inman Park\" |\n",
    "                    main$neighborhood == \"Grant Park\" |\n",
    "                    main$neighborhood == \"Berkeley Park\" |\n",
    "                    main$neighborhood == \"Morningside/Lenox Park\" |\n",
    "                    main$neighborhood == \"Grove Park\" |\n",
    "                    main$neighborhood == \"Lakewood Heights\" |\n",
    "                    main$neighborhood == \"Castleberry Hill\" |\n",
    "                    main$neighborhood == \"Pittsburgh\" |\n",
    "                    main$neighborhood == \"East Atlanta\" |\n",
    "                    main$neighborhood == \"Underwood Hills\" |\n",
    "                    main$neighborhood == \"Blandtown\"),]"
   ]
  },
  {
   "cell_type": "code",
   "execution_count": 38,
   "metadata": {
    "collapsed": true
   },
   "outputs": [
    {
     "data": {
      "text/html": [
       "10939"
      ],
      "text/latex": [
       "10939"
      ],
      "text/markdown": [
       "10939"
      ],
      "text/plain": [
       "[1] 10939"
      ]
     },
     "metadata": {},
     "output_type": "display_data"
    }
   ],
   "source": [
    "## main25 now contains only 10939 crime reports\n",
    "\n",
    "nrow(main25)"
   ]
  },
  {
   "cell_type": "markdown",
   "metadata": {},
   "source": [
    "## Now we explore the data using visualizations"
   ]
  },
  {
   "cell_type": "code",
   "execution_count": 39,
   "metadata": {
    "collapsed": true
   },
   "outputs": [
    {
     "data": {},
     "metadata": {},
     "output_type": "display_data"
    },
    {
     "data": {
      "image/png": "[encoded data removed]",
      "text/plain": [
       "plot without title"
      ]
     },
     "metadata": {},
     "output_type": "display_data"
    }
   ],
   "source": [
    "crimetype = main25 %>% \n",
    "group_by(UC2.Literal) %>% \n",
    "summarise(total=n()) %>% \n",
    "arrange(desc(total)) %>%\n",
    "ggplot(aes(reorder(UC2.Literal, total), y = total, fill = total)) + \n",
    "geom_bar(stat = \"identity\") +  \n",
    "coord_flip() +\n",
    "labs(x = \"Crime\", y = \"Total number of crimes\", title = \"Total number of crimes by type\")\n",
    "\n",
    "crimetype"
   ]
  },
  {
   "cell_type": "code",
   "execution_count": 40,
   "metadata": {
    "collapsed": true
   },
   "outputs": [
    {
     "name": "stderr",
     "output_type": "stream",
     "text": [
      "Selecting by total\n"
     ]
    },
    {
     "data": {},
     "metadata": {},
     "output_type": "display_data"
    },
    {
     "data": {
      "image/png": "[encoded data removed]",
      "text/plain": [
       "plot without title"
      ]
     },
     "metadata": {},
     "output_type": "display_data"
    }
   ],
   "source": [
    "neighbor = main25 %>% \n",
    "group_by(neighborhood) %>% \n",
    "summarise(total=n()) %>% \n",
    "arrange(desc(total)) %>%\n",
    "top_n(25) %>%\n",
    "ggplot(aes(reorder(neighborhood, total), y = total, fill = total)) + \n",
    "geom_bar(stat = \"identity\") +  \n",
    "coord_flip() +\n",
    "labs(x = \"Neighborhood\", y = \"Total number of crimes\", title = \"Total number of crimes in top 25 crime-ridden areas\")\n",
    "\n",
    "neighbor"
   ]
  },
  {
   "cell_type": "code",
   "execution_count": 41,
   "metadata": {
    "collapsed": true
   },
   "outputs": [
    {
     "data": {},
     "metadata": {},
     "output_type": "display_data"
    },
    {
     "data": {
      "image/png": "[encoded data removed]",
      "text/plain": [
       "plot without title"
      ]
     },
     "metadata": {},
     "output_type": "display_data"
    }
   ],
   "source": [
    "week.day = main25 %>%\n",
    "  group_by(Avg.Day) %>%\n",
    "  count() %>%\n",
    "  ggplot(aes(x = reorder(Avg.Day, n), y = n, fill = n)) +   \n",
    "  geom_bar(stat = \"identity\", position = \"dodge\") +\n",
    "  xlab(\"Day of Week\") +\n",
    "  ylab(\"Frequency\") +\n",
    "  ggtitle(\"Total Crimes by Day of the Week\")\n",
    "\n",
    "week.day"
   ]
  },
  {
   "cell_type": "code",
   "execution_count": 42,
   "metadata": {
    "collapsed": true
   },
   "outputs": [
    {
     "data": {},
     "metadata": {},
     "output_type": "display_data"
    },
    {
     "data": {
      "image/png": "[encoded data removed]",
      "text/plain": [
       "plot without title"
      ]
     },
     "metadata": {},
     "output_type": "display_data"
    }
   ],
   "source": [
    "day_break = main25 %>%\n",
    "group_by(Avg.Day, UC2.Literal ) %>%\n",
    "summarize(n = n()) %>%\n",
    "ggplot(aes(reorder(Avg.Day, -n), y = n, fill = n)) +   \n",
    "geom_bar(aes(fill = UC2.Literal), position = \"dodge\", stat = \"identity\", color = \"black\") +\n",
    "labs( x = \"Day of Week\", y = \"Frequency\", title = \"Crime by Day of the Week\", fill = \"Crime type\")\n",
    "\n",
    "\n",
    "day_break"
   ]
  },
  {
   "cell_type": "code",
   "execution_count": 43,
   "metadata": {
    "collapsed": true
   },
   "outputs": [
    {
     "data": {},
     "metadata": {},
     "output_type": "display_data"
    },
    {
     "data": {
      "image/png": "[encoded data removed]",
      "text/plain": [
       "plot without title"
      ]
     },
     "metadata": {},
     "output_type": "display_data"
    }
   ],
   "source": [
    "main25$hour = as.numeric(sub(\":.*\", \"\", main25$occur_time))\n",
    "\n",
    "hour = ggplot(main25, aes(x = hour)) + \n",
    "  geom_histogram(bins = 24, color = \"black\", fill = \"blue\") +\n",
    "  xlab(\"Hour\") + \n",
    "  ylab(\"Count\") +\n",
    "  ggtitle('Histogram of Crime by Hour') \n",
    "\n",
    "hour"
   ]
  },
  {
   "cell_type": "code",
   "execution_count": 44,
   "metadata": {
    "collapsed": true
   },
   "outputs": [
    {
     "data": {},
     "metadata": {},
     "output_type": "display_data"
    },
    {
     "data": {
      "image/png": "[encoded data removed]",
      "text/plain": [
       "plot without title"
      ]
     },
     "metadata": {},
     "output_type": "display_data"
    }
   ],
   "source": [
    "# ## Histogram of month v/s crimes\n",
    "\n",
    "months = main25 %>%\n",
    "group_by(Month) %>%\n",
    "  count() %>%\n",
    "  ggplot(aes(x = reorder(Month, -n), y = n, fill = n)) +\n",
    "  geom_bar(stat = \"identity\", position = \"dodge\") +\n",
    "  xlab(c(\"Month\")) + \n",
    "  ylab(\"Count\") +\n",
    "  ggtitle('Histogram of Crime by Month') +\n",
    "coord_flip()\n",
    "\n",
    "months"
   ]
  },
  {
   "cell_type": "markdown",
   "metadata": {},
   "source": [
    "## Predictive modeling\n",
    "\n",
    "### We build classification models using time and location based predictors to predict the type of crime that will have taken place given those predictors"
   ]
  },
  {
   "cell_type": "markdown",
   "metadata": {},
   "source": [
    "### Starting with Multinomial Regression model"
   ]
  },
  {
   "cell_type": "code",
   "execution_count": 45,
   "metadata": {
    "collapsed": true
   },
   "outputs": [
    {
     "name": "stdout",
     "output_type": "stream",
     "text": [
      "# weights:  210 (180 variable)\n",
      "initial  value 12592.837874 \n",
      "iter  10 value 9028.977755\n",
      "iter  20 value 8524.732799\n",
      "iter  30 value 8418.847555\n",
      "iter  40 value 8368.846899\n",
      "iter  50 value 8341.396728\n",
      "iter  60 value 8333.110760\n",
      "iter  70 value 8330.863149\n",
      "iter  80 value 8329.621181\n",
      "iter  90 value 8329.242957\n",
      "iter 100 value 8329.175344\n",
      "final  value 8329.175344 \n",
      "stopped after 100 iterations\n"
     ]
    },
    {
     "data": {
      "text/plain": [
       "Call:\n",
       "multinom(formula = UC2.Literal ~ Avg.Day + Month + Shift, data = train.set, \n",
       "    MaxNWTs = 10000)\n",
       "\n",
       "Coefficients:\n",
       "                     (Intercept) Avg.DayMon   Avg.DaySat  Avg.DaySun\n",
       "AGG ASSAULT           0.06232688 -0.3058215  -0.30980884 -0.41914754\n",
       "BURGLARY-NONRES      -2.20682100 -0.1236487  -0.74962313 -1.35469660\n",
       "BURGLARY-RESIDENCE   -0.17215097 -0.2096727  -0.58678876 -0.86668260\n",
       "LARCENY-FROM VEHICLE  1.70147175 -0.1048050  -0.29307390 -0.27660125\n",
       "LARCENY-NON VEHICLE   1.57729056 -0.1841615  -0.46304742 -0.54459594\n",
       "RAPE                 -4.77580725 -1.4985520  -0.72325525 -0.99998816\n",
       "ROBBERY-COMMERCIAL   -3.82246506  0.9000522   0.84656307 -0.31592969\n",
       "ROBBERY-PEDESTRIAN   -1.14103996  0.3160332   0.09551747  0.08410047\n",
       "ROBBERY-RESIDENCE    -2.80559859  0.2381028 -13.32151684  0.73916686\n",
       "                      Avg.DayThu  Avg.DayTue Avg.DayWed MonthAugust\n",
       "AGG ASSAULT          -0.22795116 -0.11816073 -0.3296804 -0.35539575\n",
       "BURGLARY-NONRES      -0.16576942  0.16521989 -1.1038217 -0.37792051\n",
       "BURGLARY-RESIDENCE   -0.41773659  0.11050156 -0.2575617  0.21668640\n",
       "LARCENY-FROM VEHICLE -0.26001579  0.07838766 -0.2579600 -0.03876970\n",
       "LARCENY-NON VEHICLE  -0.20432069  0.17658162 -0.1429585  0.07653002\n",
       "RAPE                 -0.43943401  0.02248565 -0.5936203 -0.82291340\n",
       "ROBBERY-COMMERCIAL    0.86014731  1.27833427 -0.3183454  1.35563412\n",
       "ROBBERY-PEDESTRIAN   -0.06962632  0.04615361 -0.2069962  0.04922043\n",
       "ROBBERY-RESIDENCE    -0.21304530  0.48675373  0.8182447 -6.82955619\n",
       "                     MonthDecember MonthFebruary MonthJanuary    MonthJuly\n",
       "AGG ASSAULT             -0.5122716    0.04064745  -0.10771130 -0.104624666\n",
       "BURGLARY-NONRES          0.1706334    0.37074429   0.59084470 -0.684470777\n",
       "BURGLARY-RESIDENCE       0.3509759    0.45992349   0.68072527 -0.048287236\n",
       "LARCENY-FROM VEHICLE     0.2383577    0.28442894   0.21968959 -0.106549121\n",
       "LARCENY-NON VEHICLE      0.3950272    0.07798468   0.48634646 -0.136806492\n",
       "RAPE                    -0.6928455    1.03960537  -8.09011868  0.137799150\n",
       "ROBBERY-COMMERCIAL      -7.7736979    0.99656028   1.25406680 -0.297550009\n",
       "ROBBERY-PEDESTRIAN       0.1415825    0.30123914   0.41124004 -0.004573064\n",
       "ROBBERY-RESIDENCE       -7.7943754   -0.09461836   0.08391769 -7.685517478\n",
       "                       MonthJune  MonthMarch   MonthMay MonthNovember\n",
       "AGG ASSAULT          -0.05318598 -0.26702506  0.4187597   -0.71029959\n",
       "BURGLARY-NONRES      -0.32315391 -1.19197613 -0.5196998   -0.06129619\n",
       "BURGLARY-RESIDENCE    0.39506921  0.13645319  0.2916911    0.11835965\n",
       "LARCENY-FROM VEHICLE  0.13931896 -0.33944893  0.4562614    0.07141769\n",
       "LARCENY-NON VEHICLE   0.09073843  0.11016997  0.4585898   -0.00843439\n",
       "RAPE                  0.34799368  1.14649531  1.3449472   -0.97047736\n",
       "ROBBERY-COMMERCIAL    1.09756420  0.17340912  1.2705607    0.82130741\n",
       "ROBBERY-PEDESTRIAN   -0.02527699  0.07618426  0.4448010    0.16759676\n",
       "ROBBERY-RESIDENCE    -0.03653213 -0.95076505 -0.1617857   -0.38345745\n",
       "                     MonthOctober MonthSeptember    ShiftEve  ShiftMorn\n",
       "AGG ASSAULT            -0.1556742      0.2813894 -0.08493656 -0.3447799\n",
       "BURGLARY-NONRES        -0.2865589      0.4558517 -0.11584613  2.0111341\n",
       "BURGLARY-RESIDENCE      0.9761378      0.1651944 -0.42655394 -0.8128007\n",
       "LARCENY-FROM VEHICLE    0.4265883      0.2654281 -0.08042854 -0.5173243\n",
       "LARCENY-NON VEHICLE     0.2983658      0.3313046 -0.16307628 -1.5120798\n",
       "RAPE                    1.4999181      0.3864506  2.08643144  2.8042807\n",
       "ROBBERY-COMMERCIAL      2.0269020      1.3852952 -0.40915208 -1.6455427\n",
       "ROBBERY-PEDESTRIAN      0.4116787      0.2283606  0.35493683  0.1387365\n",
       "ROBBERY-RESIDENCE       0.3163421     -1.0914510 -0.05931416 -0.1984899\n",
       "\n",
       "Std. Errors:\n",
       "                     (Intercept) Avg.DayMon   Avg.DaySat Avg.DaySun Avg.DayThu\n",
       "AGG ASSAULT            0.3188925  0.2739695 2.553202e-01  0.2641305  0.2644385\n",
       "BURGLARY-NONRES        0.5422125  0.3664554 3.803947e-01  0.4415845  0.3679374\n",
       "BURGLARY-RESIDENCE     0.3566840  0.2758731 2.731904e-01  0.2928384  0.2788381\n",
       "LARCENY-FROM VEHICLE   0.2324454  0.1935657 1.821056e-01  0.1846263  0.1904497\n",
       "LARCENY-NON VEHICLE    0.2428400  0.2021975 1.919072e-01  0.1962172  0.1973760\n",
       "RAPE                   1.2871383  0.8150806 5.724518e-01  0.6443668  0.5718259\n",
       "ROBBERY-COMMERCIAL     1.2666882  0.8407860 8.215158e-01  1.0147457  0.8364346\n",
       "ROBBERY-PEDESTRIAN     0.3860395  0.2981064 2.883354e-01  0.2927762  0.3091001\n",
       "ROBBERY-RESIDENCE      0.9807108  0.9377230 1.165561e-05  0.8397326  1.0189462\n",
       "                     Avg.DayTue Avg.DayWed MonthAugust MonthDecember\n",
       "AGG ASSAULT           0.2810601  0.2659267   0.3496091     0.3686139\n",
       "BURGLARY-NONRES       0.3679146  0.4601100   0.5141511     0.4888573\n",
       "BURGLARY-RESIDENCE    0.2782015  0.2677976   0.3856644     0.3857639\n",
       "LARCENY-FROM VEHICLE  0.2023753  0.1879767   0.2403791     0.2422501\n",
       "LARCENY-NON VEHICLE   0.2086723  0.1940302   0.2544017     0.2540433\n",
       "RAPE                  0.5592233  0.6015195   1.2547668     1.2599703\n",
       "ROBBERY-COMMERCIAL    0.8268720  1.0165501   1.1604253    50.6475604\n",
       "ROBBERY-PEDESTRIAN    0.3264492  0.3115294   0.3928192     0.3952824\n",
       "ROBBERY-RESIDENCE     0.9408785  0.8388259  17.2154069    28.4376458\n",
       "                     MonthFebruary MonthJanuary  MonthJuly MonthJune MonthMarch\n",
       "AGG ASSAULT              0.3608399    0.3578841  0.3204651 0.3349809  0.3591120\n",
       "BURGLARY-NONRES          0.5062982    0.4761805  0.5394938 0.5286415  0.7030837\n",
       "BURGLARY-RESIDENCE       0.4036534    0.3815095  0.3833188 0.3778251  0.4031752\n",
       "LARCENY-FROM VEHICLE     0.2602661    0.2518343  0.2306431 0.2402970  0.2561406\n",
       "LARCENY-NON VEHICLE      0.2777178    0.2621202  0.2456217 0.2547128  0.2635673\n",
       "RAPE                     0.9196126   45.4400511  0.9544974 0.9577221  0.8725937\n",
       "ROBBERY-COMMERCIAL       1.2635324    1.1985498  1.4470320 1.1940480  1.4459344\n",
       "ROBBERY-PEDESTRIAN       0.4121749    0.3919520  0.3794760 0.4011256  0.4098331\n",
       "ROBBERY-RESIDENCE        0.9442957    0.8525851 23.0635128 0.8485842  1.1811158\n",
       "                      MonthMay MonthNovember MonthOctober MonthSeptember\n",
       "AGG ASSAULT          0.3379190     0.3494720    0.3524163      0.3240797\n",
       "BURGLARY-NONRES      0.5993631     0.4823303    0.5485832      0.4621798\n",
       "BURGLARY-RESIDENCE   0.4072743     0.3692706    0.3641690      0.3932084\n",
       "LARCENY-FROM VEHICLE 0.2546251     0.2268449    0.2445074      0.2413914\n",
       "LARCENY-NON VEHICLE  0.2672722     0.2406221    0.2590016      0.2537330\n",
       "RAPE                 0.8704098     1.2553739    0.8444437      0.9611519\n",
       "ROBBERY-COMMERCIAL   1.2003297     1.1900959    1.1147441      1.1586372\n",
       "ROBBERY-PEDESTRIAN   0.3976700     0.3685355    0.3848063      0.3893162\n",
       "ROBBERY-RESIDENCE    0.9467503     0.8457138    0.7997231      1.1803733\n",
       "                      ShiftEve ShiftMorn\n",
       "AGG ASSAULT          0.1756583 0.1834302\n",
       "BURGLARY-NONRES      0.4562292 0.3682183\n",
       "BURGLARY-RESIDENCE   0.1765071 0.1910097\n",
       "LARCENY-FROM VEHICLE 0.1239860 0.1271733\n",
       "LARCENY-NON VEHICLE  0.1256952 0.1407395\n",
       "RAPE                 1.0468195 1.0300099\n",
       "ROBBERY-COMMERCIAL   0.3967378 0.5794537\n",
       "ROBBERY-PEDESTRIAN   0.2027907 0.2089813\n",
       "ROBBERY-RESIDENCE    0.5424082 0.5724911\n",
       "\n",
       "Residual Deviance: 16658.35 \n",
       "AIC: 17018.35 "
      ]
     },
     "metadata": {},
     "output_type": "display_data"
    }
   ],
   "source": [
    "## We divide the data into training and validation sets\n",
    "\n",
    "set.seed(10)\n",
    "train = sample(nrow(main25), (nrow(main25)/2))\n",
    "train.set = main25[train,]\n",
    "\n",
    "## Converting all categorical variabe values into factors\n",
    "\n",
    "train.set = transform(train.set, UC2.Literal = factor(UC2.Literal), neighborhood = factor(neighborhood), Shift = factor(Shift))\n",
    "\n",
    "## Releveling response classes with respect to a reference class\n",
    "\n",
    "train.set$UC2.Literal = relevel(train.set$UC2.Literal, ref = \"AUTO THEFT\")\n",
    "\n",
    "## Applying multinom() function to data\n",
    "\n",
    "pred.train = multinom(UC2.Literal~ Avg.Day + Month + Shift, data = train.set, MaxNWTs = 10000)\n",
    "\n",
    "summary(pred.train)"
   ]
  },
  {
   "cell_type": "code",
   "execution_count": 46,
   "metadata": {
    "collapsed": true
   },
   "outputs": [
    {
     "data": {
      "text/html": [
       "5469"
      ],
      "text/latex": [
       "5469"
      ],
      "text/markdown": [
       "5469"
      ],
      "text/plain": [
       "[1] 5469"
      ]
     },
     "metadata": {},
     "output_type": "display_data"
    }
   ],
   "source": [
    "nrow(train.set)"
   ]
  },
  {
   "cell_type": "code",
   "execution_count": 47,
   "metadata": {
    "collapsed": true
   },
   "outputs": [
    {
     "data": {
      "text/plain": [
       "                      \n",
       "prob                   AGG ASSAULT AUTO THEFT BURGLARY-NONRES\n",
       "  AUTO THEFT                     0          0               0\n",
       "  AGG ASSAULT                    0          0               0\n",
       "  BURGLARY-NONRES                0          0               0\n",
       "  BURGLARY-RESIDENCE             0          0               0\n",
       "  LARCENY-FROM VEHICLE         290        525             102\n",
       "  LARCENY-NON VEHICLE           48         52               3\n",
       "  RAPE                           0          0               0\n",
       "  ROBBERY-COMMERCIAL             0          0               0\n",
       "  ROBBERY-PEDESTRIAN             0          0               0\n",
       "  ROBBERY-RESIDENCE              0          0               0\n",
       "                      \n",
       "prob                   BURGLARY-RESIDENCE HOMICIDE LARCENY-FROM VEHICLE\n",
       "  AUTO THEFT                            0        0                    0\n",
       "  AGG ASSAULT                           0        0                    0\n",
       "  BURGLARY-NONRES                       0        0                    0\n",
       "  BURGLARY-RESIDENCE                    0        0                    0\n",
       "  LARCENY-FROM VEHICLE                210        0                 1974\n",
       "  LARCENY-NON VEHICLE                  44        0                  272\n",
       "  RAPE                                  0        0                    0\n",
       "  ROBBERY-COMMERCIAL                    0        0                    0\n",
       "  ROBBERY-PEDESTRIAN                    0        0                    0\n",
       "  ROBBERY-RESIDENCE                     0        0                    0\n",
       "                      \n",
       "prob                   LARCENY-NON VEHICLE RAPE ROBBERY-COMMERCIAL\n",
       "  AUTO THEFT                             0    0                  0\n",
       "  AGG ASSAULT                            0    0                  0\n",
       "  BURGLARY-NONRES                        0    0                  0\n",
       "  BURGLARY-RESIDENCE                     0    0                  0\n",
       "  LARCENY-FROM VEHICLE                1321   35                 33\n",
       "  LARCENY-NON VEHICLE                  293    0                 10\n",
       "  RAPE                                   0    0                  0\n",
       "  ROBBERY-COMMERCIAL                     0    0                  0\n",
       "  ROBBERY-PEDESTRIAN                     0    0                  0\n",
       "  ROBBERY-RESIDENCE                      0    0                  0\n",
       "                      \n",
       "prob                   ROBBERY-PEDESTRIAN ROBBERY-RESIDENCE\n",
       "  AUTO THEFT                            0                 0\n",
       "  AGG ASSAULT                           0                 0\n",
       "  BURGLARY-NONRES                       0                 0\n",
       "  BURGLARY-RESIDENCE                    0                 0\n",
       "  LARCENY-FROM VEHICLE                217                12\n",
       "  LARCENY-NON VEHICLE                  28                 1\n",
       "  RAPE                                  0                 0\n",
       "  ROBBERY-COMMERCIAL                    0                 0\n",
       "  ROBBERY-PEDESTRIAN                    0                 0\n",
       "  ROBBERY-RESIDENCE                     0                 0"
      ]
     },
     "metadata": {},
     "output_type": "display_data"
    }
   ],
   "source": [
    "prob <- predict(pred.train, main25[-train,])\n",
    "\n",
    "MLogit_confusion = table(prob, main25[-train,]$UC2.Literal)\n",
    "MLogit_confusion"
   ]
  },
  {
   "cell_type": "code",
   "execution_count": 48,
   "metadata": {
    "collapsed": true
   },
   "outputs": [
    {
     "data": {
      "text/html": [
       "41.4518193454014"
      ],
      "text/latex": [
       "41.4518193454014"
      ],
      "text/markdown": [
       "41.4518193454014"
      ],
      "text/plain": [
       "[1] 41.45182"
      ]
     },
     "metadata": {},
     "output_type": "display_data"
    }
   ],
   "source": [
    "## Overall accuracy\n",
    "\n",
    "ml.acc = (1974+293)/(nrow(train.set))\n",
    "ml.acc*100"
   ]
  },
  {
   "cell_type": "code",
   "execution_count": 49,
   "metadata": {},
   "outputs": [],
   "source": [
    "nLFV = nrow(train.set[which(train.set$UC2.Literal == \"LARCENY-FROM VEHICLE\"),])"
   ]
  },
  {
   "cell_type": "code",
   "execution_count": 50,
   "metadata": {
    "collapsed": true
   },
   "outputs": [
    {
     "data": {
      "text/html": [
       "87.3451327433628"
      ],
      "text/latex": [
       "87.3451327433628"
      ],
      "text/markdown": [
       "87.3451327433628"
      ],
      "text/plain": [
       "[1] 87.34513"
      ]
     },
     "metadata": {},
     "output_type": "display_data"
    }
   ],
   "source": [
    "## Accuracy of predicting Larceny from vehicle\n",
    "\n",
    "(1974/nLFV)*100"
   ]
  },
  {
   "cell_type": "code",
   "execution_count": 51,
   "metadata": {
    "collapsed": true
   },
   "outputs": [
    {
     "data": {
      "text/html": [
       "41.3238251965624"
      ],
      "text/latex": [
       "41.3238251965624"
      ],
      "text/markdown": [
       "41.3238251965624"
      ],
      "text/plain": [
       "[1] 41.32383"
      ]
     },
     "metadata": {},
     "output_type": "display_data"
    }
   ],
   "source": [
    "## Base rate of Larceny from Vehicle\n",
    "\n",
    "(nLFV/nrow(train.set))*100"
   ]
  },
  {
   "cell_type": "markdown",
   "metadata": {},
   "source": [
    "###### The accuracy of a Multinomial Logistic model shows a slight improvement over the base rate of Larceny from Vehicles. This essentially means that is we choose Larceny from Vehicles every time, we will be worse than the predictive model only 13 out of 10,000 times."
   ]
  },
  {
   "cell_type": "markdown",
   "metadata": {},
   "source": [
    "### LDA w/o neighborhood"
   ]
  },
  {
   "cell_type": "code",
   "execution_count": 103,
   "metadata": {
    "collapsed": true
   },
   "outputs": [
    {
     "name": "stderr",
     "output_type": "stream",
     "text": [
      "Warning message in lda.default(x, grouping, ...):\n",
      "\"group HOMICIDE is empty\""
     ]
    }
   ],
   "source": [
    "pred.lda = lda(UC2.Literal~Avg.Day + Month + Shift, data = train.set)"
   ]
  },
  {
   "cell_type": "code",
   "execution_count": 104,
   "metadata": {
    "collapsed": true
   },
   "outputs": [
    {
     "data": {
      "text/plain": [
       "                      \n",
       "lda.class              AGG ASSAULT AUTO THEFT BURGLARY-NONRES\n",
       "  AUTO THEFT                     0          0               0\n",
       "  AGG ASSAULT                    0          0               0\n",
       "  BURGLARY-NONRES                0          0               0\n",
       "  BURGLARY-RESIDENCE             0          0               0\n",
       "  HOMICIDE                       0          0               0\n",
       "  LARCENY-FROM VEHICLE         299        532             102\n",
       "  LARCENY-NON VEHICLE           39         45               3\n",
       "  RAPE                           0          0               0\n",
       "  ROBBERY-COMMERCIAL             0          0               0\n",
       "  ROBBERY-PEDESTRIAN             0          0               0\n",
       "  ROBBERY-RESIDENCE              0          0               0\n",
       "                      \n",
       "lda.class              BURGLARY-RESIDENCE LARCENY-FROM VEHICLE\n",
       "  AUTO THEFT                            0                    0\n",
       "  AGG ASSAULT                           0                    0\n",
       "  BURGLARY-NONRES                       0                    0\n",
       "  BURGLARY-RESIDENCE                    0                    0\n",
       "  HOMICIDE                              0                    0\n",
       "  LARCENY-FROM VEHICLE                214                 2006\n",
       "  LARCENY-NON VEHICLE                  40                  240\n",
       "  RAPE                                  0                    0\n",
       "  ROBBERY-COMMERCIAL                    0                    0\n",
       "  ROBBERY-PEDESTRIAN                    0                    0\n",
       "  ROBBERY-RESIDENCE                     0                    0\n",
       "                      \n",
       "lda.class              LARCENY-NON VEHICLE RAPE ROBBERY-COMMERCIAL\n",
       "  AUTO THEFT                             0    0                  0\n",
       "  AGG ASSAULT                            0    0                  0\n",
       "  BURGLARY-NONRES                        0    0                  0\n",
       "  BURGLARY-RESIDENCE                     0    0                  0\n",
       "  HOMICIDE                               0    0                  0\n",
       "  LARCENY-FROM VEHICLE                1354   35                 33\n",
       "  LARCENY-NON VEHICLE                  260    0                 10\n",
       "  RAPE                                   0    0                  0\n",
       "  ROBBERY-COMMERCIAL                     0    0                  0\n",
       "  ROBBERY-PEDESTRIAN                     0    0                  0\n",
       "  ROBBERY-RESIDENCE                      0    0                  0\n",
       "                      \n",
       "lda.class              ROBBERY-PEDESTRIAN ROBBERY-RESIDENCE\n",
       "  AUTO THEFT                            0                 0\n",
       "  AGG ASSAULT                           0                 0\n",
       "  BURGLARY-NONRES                       0                 0\n",
       "  BURGLARY-RESIDENCE                    0                 0\n",
       "  HOMICIDE                              0                 0\n",
       "  LARCENY-FROM VEHICLE                218                12\n",
       "  LARCENY-NON VEHICLE                  27                 1\n",
       "  RAPE                                  0                 0\n",
       "  ROBBERY-COMMERCIAL                    0                 0\n",
       "  ROBBERY-PEDESTRIAN                    0                 0\n",
       "  ROBBERY-RESIDENCE                     0                 0"
      ]
     },
     "metadata": {},
     "output_type": "display_data"
    }
   ],
   "source": [
    "lda.pred = predict(pred.lda, main25[-train,])\n",
    "lda.class = lda.pred$class\n",
    "table(lda.class, main25[-train,]$UC2.Literal)"
   ]
  },
  {
   "cell_type": "code",
   "execution_count": 89,
   "metadata": {
    "collapsed": true
   },
   "outputs": [
    {
     "data": {
      "text/html": [
       "41.4335344669958"
      ],
      "text/latex": [
       "41.4335344669958"
      ],
      "text/markdown": [
       "41.4335344669958"
      ],
      "text/plain": [
       "[1] 41.43353"
      ]
     },
     "metadata": {},
     "output_type": "display_data"
    }
   ],
   "source": [
    "(2006+260)*100/(nrow(train.set))"
   ]
  },
  {
   "cell_type": "markdown",
   "metadata": {},
   "source": [
    "### LDA with neighborhood"
   ]
  },
  {
   "cell_type": "code",
   "execution_count": 91,
   "metadata": {},
   "outputs": [],
   "source": [
    "lda2.tr <- transform(train.set, UC2.Literal = factor(train.set$UC2.Literal))"
   ]
  },
  {
   "cell_type": "code",
   "execution_count": 102,
   "metadata": {},
   "outputs": [],
   "source": [
    "main25 = transform(main25, UC2.Literal = factor(main25$UC2.Literal), Shift = factor(main25$Shift))"
   ]
  },
  {
   "cell_type": "code",
   "execution_count": 25,
   "metadata": {
    "collapsed": true
   },
   "outputs": [
    {
     "ename": "ERROR",
     "evalue": "Error in is.data.frame(data): object 'lda2.tr' not found\n",
     "output_type": "error",
     "traceback": [
      "Error in is.data.frame(data): object 'lda2.tr' not found\nTraceback:\n",
      "1. lda(UC2.Literal ~ Avg.Day + Month + Shift, data = lda2.tr)",
      "2. lda.formula(UC2.Literal ~ Avg.Day + Month + Shift, data = lda2.tr)",
      "3. eval.parent(m)",
      "4. eval(expr, p)",
      "5. eval(expr, p)",
      "6. stats::model.frame(formula = UC2.Literal ~ Avg.Day + Month + \n .     Shift, data = lda2.tr)",
      "7. model.frame.default(formula = UC2.Literal ~ Avg.Day + Month + \n .     Shift, data = lda2.tr)",
      "8. is.data.frame(data)"
     ]
    }
   ],
   "source": [
    "lda2 = lda(UC2.Literal~Avg.Day + Month + Shift, data = lda2.tr)\n",
    "\n",
    "pred2 = predict(lda2, main25[-train,])\n",
    "lda2class = pred2$class\n",
    "table(lda2class, main25[-train,]$UC2.Literal)"
   ]
  },
  {
   "cell_type": "markdown",
   "metadata": {},
   "source": [
    "### QDA w/o neighborhood"
   ]
  },
  {
   "cell_type": "code",
   "execution_count": 101,
   "metadata": {
    "collapsed": true
   },
   "outputs": [
    {
     "data": {
      "text/plain": [
       "    MI_PRINX            occur_date          Month         occur_time  \n",
       " Min.   :8897540   11/7/2017 :   53   November :1092   19:00:00: 321  \n",
       " 1st Qu.:8904476   8/19/2017 :   50   October  :1066   20:00:00: 319  \n",
       " Median :8911232   10/2/2017 :   47   September:1008   17:00:00: 253  \n",
       " Mean   :8911136   11/10/2017:   47   December : 980   18:00:00: 253  \n",
       " 3rd Qu.:8917910   10/7/2017 :   46   July     : 965   22:00:00: 242  \n",
       " Max.   :8924217   11/17/2017:   46   May      : 950   14:00:00: 227  \n",
       "                   (Other)   :10650   (Other)  :4878   (Other) :9324  \n",
       " MaxOfnum_victims  Shift      Avg.Day                  UC2.Literal  \n",
       " Min.   : 0.000   Day :3393   Fri:1597   LARCENY-FROM VEHICLE:4506  \n",
       " 1st Qu.: 1.000   Eve :4714   Mon:1563   LARCENY-NON VEHICLE :3222  \n",
       " Median : 1.000   Morn:2832   Sat:1676   AUTO THEFT          :1095  \n",
       " Mean   : 1.175               Sun:1524   AGG ASSAULT         : 668  \n",
       " 3rd Qu.: 1.000               Thu:1521   BURGLARY-RESIDENCE  : 546  \n",
       " Max.   :23.000               Tue:1522   ROBBERY-PEDESTRIAN  : 498  \n",
       "                              Wed:1536   (Other)             : 404  \n",
       "            neighborhood \n",
       " Downtown         :1579  \n",
       " Midtown          :1211  \n",
       " Old Fourth Ward  : 608  \n",
       " Lindbergh/Morosgo: 518  \n",
       " West End         : 507  \n",
       " Lenox            : 484  \n",
       " (Other)          :6032  "
      ]
     },
     "metadata": {},
     "output_type": "display_data"
    }
   ],
   "source": [
    "summary(main25)"
   ]
  },
  {
   "cell_type": "code",
   "execution_count": 100,
   "metadata": {
    "collapsed": true
   },
   "outputs": [
    {
     "ename": "ERROR",
     "evalue": "Error in qda.default(x, grouping, ...): some group is too small for 'qda'\n",
     "output_type": "error",
     "traceback": [
      "Error in qda.default(x, grouping, ...): some group is too small for 'qda'\nTraceback:\n",
      "1. qda(UC2.Literal ~ Avg.Day + Month + Shift + neighborhood, data = main25)",
      "2. qda.formula(UC2.Literal ~ Avg.Day + Month + Shift + neighborhood, \n .     data = main25)",
      "3. qda.default(x, grouping, ...)",
      "4. stop(\"some group is too small for 'qda'\")"
     ]
    }
   ],
   "source": [
    "qda1 = qda(UC2.Literal~Avg.Day + Month + Shift + neighborhood, data = main25)\n",
    "\n",
    "qda.pred = predict(qda1, main25[-train,])\n",
    "qda.class = qda.pred$class\n",
    "table(qda.class, main25[-train,]$UC2.Literal)"
   ]
  },
  {
   "cell_type": "code",
   "execution_count": 106,
   "metadata": {},
   "outputs": [],
   "source": [
    "library(class)"
   ]
  },
  {
   "cell_type": "code",
   "execution_count": 115,
   "metadata": {
    "collapsed": true
   },
   "outputs": [
    {
     "data": {
      "text/html": [
       "<ol class=list-inline>\n",
       "\t<li>5469</li>\n",
       "\t<li>8</li>\n",
       "</ol>\n"
      ],
      "text/latex": [
       "\\begin{enumerate*}\n",
       "\\item 5469\n",
       "\\item 8\n",
       "\\end{enumerate*}\n"
      ],
      "text/markdown": [
       "1. 5469\n",
       "2. 8\n",
       "\n",
       "\n"
      ],
      "text/plain": [
       "[1] 5469    8"
      ]
     },
     "metadata": {},
     "output_type": "display_data"
    }
   ],
   "source": [
    "tr.x = train.set[,-8]\n",
    "dim(tr.x)"
   ]
  },
  {
   "cell_type": "code",
   "execution_count": 132,
   "metadata": {
    "collapsed": true
   },
   "outputs": [
    {
     "data": {
      "text/html": [
       "<ol class=list-inline>\n",
       "\t<li>5469</li>\n",
       "\t<li>1</li>\n",
       "</ol>\n"
      ],
      "text/latex": [
       "\\begin{enumerate*}\n",
       "\\item 5469\n",
       "\\item 1\n",
       "\\end{enumerate*}\n"
      ],
      "text/markdown": [
       "1. 5469\n",
       "2. 1\n",
       "\n",
       "\n"
      ],
      "text/plain": [
       "[1] 5469    1"
      ]
     },
     "metadata": {},
     "output_type": "display_data"
    }
   ],
   "source": [
    "# tr.y = c(train.set[,8])\n",
    "# tr.y\n",
    "\n",
    "tr.y = subset(train.set, select = 8)\n",
    "dim(tr.y)"
   ]
  },
  {
   "cell_type": "code",
   "execution_count": 120,
   "metadata": {
    "collapsed": true
   },
   "outputs": [
    {
     "data": {
      "text/html": [
       "<ol class=list-inline>\n",
       "\t<li>5469</li>\n",
       "\t<li>8</li>\n",
       "</ol>\n"
      ],
      "text/latex": [
       "\\begin{enumerate*}\n",
       "\\item 5469\n",
       "\\item 8\n",
       "\\end{enumerate*}\n"
      ],
      "text/markdown": [
       "1. 5469\n",
       "2. 8\n",
       "\n",
       "\n"
      ],
      "text/plain": [
       "[1] 5469    8"
      ]
     },
     "metadata": {},
     "output_type": "display_data"
    }
   ],
   "source": [
    "te.x = main25[-train,-8]\n",
    "te.x = te.x[-1,]\n",
    "dim(te.x)"
   ]
  },
  {
   "cell_type": "code",
   "execution_count": 131,
   "metadata": {
    "collapsed": true
   },
   "outputs": [
    {
     "data": {
      "text/html": [
       "<ol class=list-inline>\n",
       "\t<li>5469</li>\n",
       "\t<li>1</li>\n",
       "</ol>\n"
      ],
      "text/latex": [
       "\\begin{enumerate*}\n",
       "\\item 5469\n",
       "\\item 1\n",
       "\\end{enumerate*}\n"
      ],
      "text/markdown": [
       "1. 5469\n",
       "2. 1\n",
       "\n",
       "\n"
      ],
      "text/plain": [
       "[1] 5469    1"
      ]
     },
     "metadata": {},
     "output_type": "display_data"
    }
   ],
   "source": [
    "# te.y = main25[-train,8]\n",
    "# dim(te.y)\n",
    "\n",
    "te.y = subset(train.set, select = 8)\n",
    "dim(te.y)"
   ]
  },
  {
   "cell_type": "code",
   "execution_count": 134,
   "metadata": {
    "collapsed": true
   },
   "outputs": [
    {
     "ename": "ERROR",
     "evalue": "Error in knn(tr.x, te.x, tr.y, k = 10): 'train' and 'class' have different lengths\n",
     "output_type": "error",
     "traceback": [
      "Error in knn(tr.x, te.x, tr.y, k = 10): 'train' and 'class' have different lengths\nTraceback:\n",
      "1. knn(tr.x, te.x, tr.y, k = 10)",
      "2. stop(\"'train' and 'class' have different lengths\")"
     ]
    }
   ],
   "source": [
    "knn.pred = knn(tr.x,te.x,tr.y,k=10)\n",
    "# knn.test = table(knn.pred, te.y)\n",
    "\n",
    "dim(knn.pred)"
   ]
  },
  {
   "cell_type": "code",
   "execution_count": 21,
   "metadata": {},
   "outputs": [
    {
     "data": {
      "text/html": [
       "<table>\n",
       "<thead><tr><th></th><th scope=col>MI_PRINX</th><th scope=col>occur_date</th><th scope=col>Month</th><th scope=col>occur_time</th><th scope=col>MaxOfnum_victims</th><th scope=col>Shift</th><th scope=col>Avg.Day</th><th scope=col>UC2.Literal</th><th scope=col>neighborhood</th><th scope=col>freq</th></tr></thead>\n",
       "<tbody>\n",
       "\t<tr><th scope=row>1</th><td>8924155             </td><td>12/30/2017          </td><td>December            </td><td>23:15:00            </td><td>2                   </td><td>Morn                </td><td>Sat                 </td><td>LARCENY-FROM VEHICLE</td><td>Downtown            </td><td>1584                </td></tr>\n",
       "\t<tr><th scope=row>25</th><td>8924182             </td><td>12/30/2017          </td><td>December            </td><td>22:00:00            </td><td>1                   </td><td>Morn                </td><td>Sun                 </td><td>LARCENY-FROM VEHICLE</td><td>Downtown            </td><td>1584                </td></tr>\n",
       "\t<tr><th scope=row>62</th><td>8924097             </td><td>12/29/2017          </td><td>December            </td><td>22:30:00            </td><td>3                   </td><td>Morn                </td><td>Sat                 </td><td>LARCENY-FROM VEHICLE</td><td>Downtown            </td><td>1584                </td></tr>\n",
       "\t<tr><th scope=row>65</th><td>8924100             </td><td>12/29/2017          </td><td>December            </td><td>21:00:00            </td><td>1                   </td><td>Morn                </td><td>Fri                 </td><td>LARCENY-FROM VEHICLE</td><td>Downtown            </td><td>1584                </td></tr>\n",
       "\t<tr><th scope=row>140</th><td>8924079             </td><td>12/29/2017          </td><td>December            </td><td>17:15:00            </td><td>1                   </td><td>Eve                 </td><td>Fri                 </td><td>LARCENY-FROM VEHICLE</td><td>Downtown            </td><td>1584                </td></tr>\n",
       "\t<tr><th scope=row>148</th><td>8924092             </td><td>12/29/2017          </td><td>December            </td><td>22:27:00            </td><td>1                   </td><td>Eve                 </td><td>Fri                 </td><td>LARCENY-NON VEHICLE </td><td>Downtown            </td><td>1584                </td></tr>\n",
       "\t<tr><th scope=row>151</th><td>8923973             </td><td>12/27/2017          </td><td>December            </td><td>20:00:00            </td><td>1                   </td><td>Eve                 </td><td>Wed                 </td><td>LARCENY-FROM VEHICLE</td><td>Downtown            </td><td>1584                </td></tr>\n",
       "\t<tr><th scope=row>161</th><td>8923983             </td><td>12/28/2017          </td><td>December            </td><td>8:14:00             </td><td>1                   </td><td>Day                 </td><td>Thu                 </td><td>LARCENY-NON VEHICLE </td><td>Downtown            </td><td>1584                </td></tr>\n",
       "\t<tr><th scope=row>194</th><td>8924022             </td><td>12/28/2017          </td><td>December            </td><td>18:06:00            </td><td>1                   </td><td>Eve                 </td><td>Thu                 </td><td>LARCENY-NON VEHICLE </td><td>Downtown            </td><td>1584                </td></tr>\n",
       "\t<tr><th scope=row>206</th><td>8924036             </td><td>12/28/2017          </td><td>December            </td><td>19:30:00            </td><td>1                   </td><td>Eve                 </td><td>Thu                 </td><td>LARCENY-FROM VEHICLE</td><td>Downtown            </td><td>1584                </td></tr>\n",
       "\t<tr><th scope=row>220</th><td>8923885             </td><td>12/26/2017          </td><td>December            </td><td>7:00:00             </td><td>2                   </td><td>Day                 </td><td>Tue                 </td><td>LARCENY-FROM VEHICLE</td><td>Downtown            </td><td>1584                </td></tr>\n",
       "\t<tr><th scope=row>249</th><td>8923928             </td><td>12/27/2017          </td><td>December            </td><td>8:30:00             </td><td>2                   </td><td>Day                 </td><td>Wed                 </td><td>LARCENY-FROM VEHICLE</td><td>Downtown            </td><td>1584                </td></tr>\n",
       "\t<tr><th scope=row>258</th><td>8923940             </td><td>12/27/2017          </td><td>December            </td><td>16:23:00            </td><td>2                   </td><td>Eve                 </td><td>Wed                 </td><td>AGG ASSAULT         </td><td>Downtown            </td><td>1584                </td></tr>\n",
       "\t<tr><th scope=row>259</th><td>8923941             </td><td>12/27/2017          </td><td>December            </td><td>12:00:00            </td><td>1                   </td><td>Eve                 </td><td>Wed                 </td><td>AUTO THEFT          </td><td>Downtown            </td><td>1584                </td></tr>\n",
       "\t<tr><th scope=row>282</th><td>8923812             </td><td>12/25/2017          </td><td>December            </td><td>20:30:00            </td><td>1                   </td><td>Eve                 </td><td>Mon                 </td><td>ROBBERY-PEDESTRIAN  </td><td>Downtown            </td><td>1584                </td></tr>\n",
       "\t<tr><th scope=row>296</th><td>8923829             </td><td>12/25/2017          </td><td>December            </td><td>21:00:00            </td><td>1                   </td><td>Morn                </td><td>Tue                 </td><td>AUTO THEFT          </td><td>Downtown            </td><td>1584                </td></tr>\n",
       "\t<tr><th scope=row>313</th><td>8923856             </td><td>12/26/2017          </td><td>December            </td><td>17:55:00            </td><td>1                   </td><td>Eve                 </td><td>Tue                 </td><td>LARCENY-NON VEHICLE </td><td>Downtown            </td><td>1584                </td></tr>\n",
       "\t<tr><th scope=row>327</th><td>8923871             </td><td>12/25/2017          </td><td>December            </td><td>8:30:00             </td><td>1                   </td><td>Day                 </td><td>Mon                 </td><td>BURGLARY-NONRES     </td><td>Downtown            </td><td>1584                </td></tr>\n",
       "\t<tr><th scope=row>337</th><td>8923788             </td><td>12/24/2017          </td><td>December            </td><td>22:15:00            </td><td>2                   </td><td>Morn                </td><td>Sun                 </td><td>LARCENY-FROM VEHICLE</td><td>Downtown            </td><td>1584                </td></tr>\n",
       "\t<tr><th scope=row>341</th><td>8923793             </td><td>12/24/2017          </td><td>December            </td><td>17:30:00            </td><td>1                   </td><td>Morn                </td><td>Mon                 </td><td>LARCENY-FROM VEHICLE</td><td>Downtown            </td><td>1584                </td></tr>\n",
       "\t<tr><th scope=row>348</th><td>8923800             </td><td>12/25/2017          </td><td>December            </td><td>14:47:00            </td><td>1                   </td><td>Eve                 </td><td>Mon                 </td><td>LARCENY-NON VEHICLE </td><td>Downtown            </td><td>1584                </td></tr>\n",
       "\t<tr><th scope=row>360</th><td>8923724             </td><td>12/24/2017          </td><td>December            </td><td>3:30:00             </td><td>1                   </td><td>Morn                </td><td>Sun                 </td><td>LARCENY-FROM VEHICLE</td><td>Downtown            </td><td>1584                </td></tr>\n",
       "\t<tr><th scope=row>385</th><td>8923751             </td><td>12/24/2017          </td><td>December            </td><td>16:00:00            </td><td>1                   </td><td>Eve                 </td><td>Sun                 </td><td>LARCENY-NON VEHICLE </td><td>Downtown            </td><td>1584                </td></tr>\n",
       "\t<tr><th scope=row>396</th><td>8923763             </td><td>12/24/2017          </td><td>December            </td><td>13:00:00            </td><td>1                   </td><td>Eve                 </td><td>Sun                 </td><td>BURGLARY-RESIDENCE  </td><td>Downtown            </td><td>1584                </td></tr>\n",
       "\t<tr><th scope=row>421</th><td>8923643             </td><td>12/22/2017          </td><td>December            </td><td>18:00:00            </td><td>1                   </td><td>Eve                 </td><td>Fri                 </td><td>ROBBERY-PEDESTRIAN  </td><td>Downtown            </td><td>1584                </td></tr>\n",
       "\t<tr><th scope=row>427</th><td>8923650             </td><td>12/22/2017          </td><td>December            </td><td>22:50:00            </td><td>1                   </td><td>Morn                </td><td>Sat                 </td><td>BURGLARY-NONRES     </td><td>Downtown            </td><td>1584                </td></tr>\n",
       "\t<tr><th scope=row>432</th><td>8923658             </td><td>12/23/2017          </td><td>December            </td><td>10:40:00            </td><td>1                   </td><td>Day                 </td><td>Sat                 </td><td>LARCENY-NON VEHICLE </td><td>Downtown            </td><td>1584                </td></tr>\n",
       "\t<tr><th scope=row>434</th><td>8923661             </td><td>12/23/2017          </td><td>December            </td><td>10:45:00            </td><td>1                   </td><td>Day                 </td><td>Sat                 </td><td>AGG ASSAULT         </td><td>Downtown            </td><td>1584                </td></tr>\n",
       "\t<tr><th scope=row>457</th><td>8923686             </td><td>12/23/2017          </td><td>December            </td><td>17:30:00            </td><td>1                   </td><td>Eve                 </td><td>Sat                 </td><td>LARCENY-FROM VEHICLE</td><td>Downtown            </td><td>1584                </td></tr>\n",
       "\t<tr><th scope=row>468</th><td>8923699             </td><td>12/23/2017          </td><td>December            </td><td>17:30:00            </td><td>3                   </td><td>Eve                 </td><td>Sat                 </td><td>LARCENY-FROM VEHICLE</td><td>Downtown            </td><td>1584                </td></tr>\n",
       "\t<tr><th scope=row>...</th><td>...</td><td>...</td><td>...</td><td>...</td><td>...</td><td>...</td><td>...</td><td>...</td><td>...</td><td>...</td></tr>\n",
       "\t<tr><th scope=row>21631</th><td>8898100             </td><td>1/8/2017            </td><td>January             </td><td>16:00:00            </td><td>1                   </td><td>Eve                 </td><td>Sun                 </td><td>LARCENY-FROM VEHICLE</td><td>Tampa Park          </td><td>3                   </td></tr>\n",
       "\t<tr><th scope=row>21950</th><td>8897654             </td><td>1/2/2017            </td><td>January             </td><td>8:00:00             </td><td>1                   </td><td>Day                 </td><td>Mon                 </td><td>AUTO THEFT          </td><td>Westover Plantation </td><td>3                   </td></tr>\n",
       "\t<tr><th scope=row>809</th><td>8923286             </td><td>12/18/2017          </td><td>December            </td><td>20:30:00            </td><td>1                   </td><td>Eve                 </td><td>Mon                 </td><td>AUTO THEFT          </td><td>Memorial Park       </td><td>2                   </td></tr>\n",
       "\t<tr><th scope=row>1869</th><td>8921873             </td><td>12/1/2017           </td><td>December            </td><td>5:52:00             </td><td>1                   </td><td>Morn                </td><td>Fri                 </td><td>AUTO THEFT          </td><td>Ben Hill Forest     </td><td>2                   </td></tr>\n",
       "\t<tr><th scope=row>3091</th><td>8920506             </td><td>11/11/2017          </td><td>November            </td><td>20:00:00            </td><td>1                   </td><td>Morn                </td><td>Sun                 </td><td>LARCENY-FROM VEHICLE</td><td>Fairburn Tell       </td><td>2                   </td></tr>\n",
       "\t<tr><th scope=row>3117</th><td>8920421             </td><td>11/12/2017          </td><td>November            </td><td>16:00:00            </td><td>1                   </td><td>Eve                 </td><td>Sun                 </td><td>AGG ASSAULT         </td><td>Fort McPherson      </td><td>2                   </td></tr>\n",
       "\t<tr><th scope=row>4917</th><td>8918285             </td><td>10/17/2017          </td><td>October             </td><td>12:42:00            </td><td>1                   </td><td>Day                 </td><td>Tue                 </td><td>LARCENY-NON VEHICLE </td><td>Collier Hills North </td><td>2                   </td></tr>\n",
       "\t<tr><th scope=row>5198</th><td>8917932             </td><td>10/12/2017          </td><td>October             </td><td>23:00:00            </td><td>1                   </td><td>Morn                </td><td>Fri                 </td><td>AUTO THEFT          </td><td>Kingswood           </td><td>2                   </td></tr>\n",
       "\t<tr><th scope=row>7857</th><td>8914693             </td><td>9/3/2017            </td><td>September           </td><td>23:30:00            </td><td>1                   </td><td>Morn                </td><td>Sun                 </td><td>LARCENY-FROM VEHICLE</td><td>Kingswood           </td><td>2                   </td></tr>\n",
       "\t<tr><th scope=row>8662</th><td>8913788             </td><td>8/22/2017           </td><td>August              </td><td>5:50:00             </td><td>1                   </td><td>Morn                </td><td>Tue                 </td><td>AUTO THEFT          </td><td>Ben Hill Forest     </td><td>2                   </td></tr>\n",
       "\t<tr><th scope=row>9867</th><td>8912298             </td><td>8/2/2017            </td><td>August              </td><td>5:30:00             </td><td>1                   </td><td>Morn                </td><td>Wed                 </td><td>AGG ASSAULT         </td><td>Rue Royal           </td><td>2                   </td></tr>\n",
       "\t<tr><th scope=row>10092</th><td>8911988             </td><td>7/29/2017           </td><td>July                </td><td>3:30:00             </td><td>1                   </td><td>Morn                </td><td>Sat                 </td><td>BURGLARY-RESIDENCE  </td><td>Horseshoe Community </td><td>2                   </td></tr>\n",
       "\t<tr><th scope=row>10852</th><td>8911104             </td><td>7/17/2017           </td><td>July                </td><td>20:30:00            </td><td>1                   </td><td>Morn                </td><td>Tue                 </td><td>AUTO THEFT          </td><td>Niskey Cove         </td><td>2                   </td></tr>\n",
       "\t<tr><th scope=row>13557</th><td>8907848             </td><td>6/5/2017            </td><td>June                </td><td>5:10:00             </td><td>1                   </td><td>Morn                </td><td>Mon                 </td><td>LARCENY-NON VEHICLE </td><td>Pomona Park         </td><td>2                   </td></tr>\n",
       "\t<tr><th scope=row>13679</th><td>8907759             </td><td>6/3/2017            </td><td>June                </td><td>20:45:00            </td><td>1                   </td><td>Eve                 </td><td>Sat                 </td><td>BURGLARY-RESIDENCE  </td><td>Niskey Cove         </td><td>2                   </td></tr>\n",
       "\t<tr><th scope=row>13837</th><td>8907514             </td><td>5/31/2017           </td><td>May                 </td><td>12:30:00            </td><td>1                   </td><td>Day                 </td><td>Wed                 </td><td>LARCENY-FROM VEHICLE</td><td>Collier Hills North </td><td>2                   </td></tr>\n",
       "\t<tr><th scope=row>13850</th><td>8907534             </td><td>5/31/2017           </td><td>May                 </td><td>17:22:00            </td><td>1                   </td><td>Eve                 </td><td>Wed                 </td><td>AUTO THEFT          </td><td>Fort McPherson      </td><td>2                   </td></tr>\n",
       "\t<tr><th scope=row>14456</th><td>8906802             </td><td>5/21/2017           </td><td>May                 </td><td>18:33:00            </td><td>1                   </td><td>Eve                 </td><td>Sun                 </td><td>LARCENY-FROM VEHICLE</td><td>Fairburn Tell       </td><td>2                   </td></tr>\n",
       "\t<tr><th scope=row>14755</th><td>8906382             </td><td>5/15/2017           </td><td>May                 </td><td>18:00:00            </td><td>1                   </td><td>Morn                </td><td>Tue                 </td><td>LARCENY-FROM VEHICLE</td><td>Wildwood Forest     </td><td>2                   </td></tr>\n",
       "\t<tr><th scope=row>14854</th><td>8906283             </td><td>5/14/2017           </td><td>May                 </td><td>12:58:00            </td><td>1                   </td><td>Day                 </td><td>Sun                 </td><td>LARCENY-NON VEHICLE </td><td>Memorial Park       </td><td>2                   </td></tr>\n",
       "\t<tr><th scope=row>15392</th><td>8905670             </td><td>5/6/2017            </td><td>May                 </td><td>0:00:00             </td><td>1                   </td><td>Morn                </td><td>Sat                 </td><td>AUTO THEFT          </td><td>Pomona Park         </td><td>2                   </td></tr>\n",
       "\t<tr><th scope=row>17285</th><td>8903406             </td><td>4/3/2017            </td><td>April               </td><td>17:11:00            </td><td>1                   </td><td>Eve                 </td><td>Mon                 </td><td>AGG ASSAULT         </td><td>Wildwood Forest     </td><td>2                   </td></tr>\n",
       "\t<tr><th scope=row>18233</th><td>8902201             </td><td>3/12/2017           </td><td>March               </td><td>21:31:00            </td><td>1                   </td><td>Eve                 </td><td>Sun                 </td><td>AGG ASSAULT         </td><td>Rue Royal           </td><td>2                   </td></tr>\n",
       "\t<tr><th scope=row>19419</th><td>8900650             </td><td>2/14/2017           </td><td>February            </td><td>22:00:00            </td><td>1                   </td><td>Morn                </td><td>Wed                 </td><td>LARCENY-FROM VEHICLE</td><td>Horseshoe Community </td><td>2                   </td></tr>\n",
       "\t<tr><th scope=row>2580</th><td>8921052             </td><td>11/20/2017          </td><td>November            </td><td>10:30:00            </td><td>1                   </td><td>Day                 </td><td>Mon                 </td><td>LARCENY-FROM VEHICLE</td><td>Mt. Paran Parkway   </td><td>1                   </td></tr>\n",
       "\t<tr><th scope=row>5776</th><td>8917316             </td><td>10/5/2017           </td><td>October             </td><td>20:51:00            </td><td>2                   </td><td>Eve                 </td><td>Thu                 </td><td>ROBBERY-PEDESTRIAN  </td><td>Lake Estates        </td><td>1                   </td></tr>\n",
       "\t<tr><th scope=row>7472</th><td>8915230             </td><td>9/9/2017            </td><td>September           </td><td>12:00:00            </td><td>1                   </td><td>Day                 </td><td>Sat                 </td><td>LARCENY-FROM VEHICLE</td><td>Georgia Tech        </td><td>1                   </td></tr>\n",
       "\t<tr><th scope=row>14552</th><td>8906616             </td><td>5/19/2017           </td><td>May                 </td><td>4:45:00             </td><td>1                   </td><td>Morn                </td><td>Fri                 </td><td>LARCENY-NON VEHICLE </td><td>Just Us             </td><td>1                   </td></tr>\n",
       "\t<tr><th scope=row>15282</th><td>8905758             </td><td>5/5/2017            </td><td>May                 </td><td>20:00:00            </td><td>1                   </td><td>Morn                </td><td>Sat                 </td><td>LARCENY-NON VEHICLE </td><td>Mellwood            </td><td>1                   </td></tr>\n",
       "\t<tr><th scope=row>21767</th><td>8897851             </td><td>1/5/2017            </td><td>January             </td><td>4:19:00             </td><td>1                   </td><td>Morn                </td><td>Thu                 </td><td>BURGLARY-RESIDENCE  </td><td>Pleasant Hill       </td><td>1                   </td></tr>\n",
       "</tbody>\n",
       "</table>\n"
      ],
      "text/latex": [
       "\\begin{tabular}{r|llllllllll}\n",
       "  & MI\\_PRINX & occur\\_date & Month & occur\\_time & MaxOfnum\\_victims & Shift & Avg.Day & UC2.Literal & neighborhood & freq\\\\\n",
       "\\hline\n",
       "\t1 & 8924155              & 12/30/2017           & December             & 23:15:00             & 2                    & Morn                 & Sat                  & LARCENY-FROM VEHICLE & Downtown             & 1584                \\\\\n",
       "\t25 & 8924182              & 12/30/2017           & December             & 22:00:00             & 1                    & Morn                 & Sun                  & LARCENY-FROM VEHICLE & Downtown             & 1584                \\\\\n",
       "\t62 & 8924097              & 12/29/2017           & December             & 22:30:00             & 3                    & Morn                 & Sat                  & LARCENY-FROM VEHICLE & Downtown             & 1584                \\\\\n",
       "\t65 & 8924100              & 12/29/2017           & December             & 21:00:00             & 1                    & Morn                 & Fri                  & LARCENY-FROM VEHICLE & Downtown             & 1584                \\\\\n",
       "\t140 & 8924079              & 12/29/2017           & December             & 17:15:00             & 1                    & Eve                  & Fri                  & LARCENY-FROM VEHICLE & Downtown             & 1584                \\\\\n",
       "\t148 & 8924092              & 12/29/2017           & December             & 22:27:00             & 1                    & Eve                  & Fri                  & LARCENY-NON VEHICLE  & Downtown             & 1584                \\\\\n",
       "\t151 & 8923973              & 12/27/2017           & December             & 20:00:00             & 1                    & Eve                  & Wed                  & LARCENY-FROM VEHICLE & Downtown             & 1584                \\\\\n",
       "\t161 & 8923983              & 12/28/2017           & December             & 8:14:00              & 1                    & Day                  & Thu                  & LARCENY-NON VEHICLE  & Downtown             & 1584                \\\\\n",
       "\t194 & 8924022              & 12/28/2017           & December             & 18:06:00             & 1                    & Eve                  & Thu                  & LARCENY-NON VEHICLE  & Downtown             & 1584                \\\\\n",
       "\t206 & 8924036              & 12/28/2017           & December             & 19:30:00             & 1                    & Eve                  & Thu                  & LARCENY-FROM VEHICLE & Downtown             & 1584                \\\\\n",
       "\t220 & 8923885              & 12/26/2017           & December             & 7:00:00              & 2                    & Day                  & Tue                  & LARCENY-FROM VEHICLE & Downtown             & 1584                \\\\\n",
       "\t249 & 8923928              & 12/27/2017           & December             & 8:30:00              & 2                    & Day                  & Wed                  & LARCENY-FROM VEHICLE & Downtown             & 1584                \\\\\n",
       "\t258 & 8923940              & 12/27/2017           & December             & 16:23:00             & 2                    & Eve                  & Wed                  & AGG ASSAULT          & Downtown             & 1584                \\\\\n",
       "\t259 & 8923941              & 12/27/2017           & December             & 12:00:00             & 1                    & Eve                  & Wed                  & AUTO THEFT           & Downtown             & 1584                \\\\\n",
       "\t282 & 8923812              & 12/25/2017           & December             & 20:30:00             & 1                    & Eve                  & Mon                  & ROBBERY-PEDESTRIAN   & Downtown             & 1584                \\\\\n",
       "\t296 & 8923829              & 12/25/2017           & December             & 21:00:00             & 1                    & Morn                 & Tue                  & AUTO THEFT           & Downtown             & 1584                \\\\\n",
       "\t313 & 8923856              & 12/26/2017           & December             & 17:55:00             & 1                    & Eve                  & Tue                  & LARCENY-NON VEHICLE  & Downtown             & 1584                \\\\\n",
       "\t327 & 8923871              & 12/25/2017           & December             & 8:30:00              & 1                    & Day                  & Mon                  & BURGLARY-NONRES      & Downtown             & 1584                \\\\\n",
       "\t337 & 8923788              & 12/24/2017           & December             & 22:15:00             & 2                    & Morn                 & Sun                  & LARCENY-FROM VEHICLE & Downtown             & 1584                \\\\\n",
       "\t341 & 8923793              & 12/24/2017           & December             & 17:30:00             & 1                    & Morn                 & Mon                  & LARCENY-FROM VEHICLE & Downtown             & 1584                \\\\\n",
       "\t348 & 8923800              & 12/25/2017           & December             & 14:47:00             & 1                    & Eve                  & Mon                  & LARCENY-NON VEHICLE  & Downtown             & 1584                \\\\\n",
       "\t360 & 8923724              & 12/24/2017           & December             & 3:30:00              & 1                    & Morn                 & Sun                  & LARCENY-FROM VEHICLE & Downtown             & 1584                \\\\\n",
       "\t385 & 8923751              & 12/24/2017           & December             & 16:00:00             & 1                    & Eve                  & Sun                  & LARCENY-NON VEHICLE  & Downtown             & 1584                \\\\\n",
       "\t396 & 8923763              & 12/24/2017           & December             & 13:00:00             & 1                    & Eve                  & Sun                  & BURGLARY-RESIDENCE   & Downtown             & 1584                \\\\\n",
       "\t421 & 8923643              & 12/22/2017           & December             & 18:00:00             & 1                    & Eve                  & Fri                  & ROBBERY-PEDESTRIAN   & Downtown             & 1584                \\\\\n",
       "\t427 & 8923650              & 12/22/2017           & December             & 22:50:00             & 1                    & Morn                 & Sat                  & BURGLARY-NONRES      & Downtown             & 1584                \\\\\n",
       "\t432 & 8923658              & 12/23/2017           & December             & 10:40:00             & 1                    & Day                  & Sat                  & LARCENY-NON VEHICLE  & Downtown             & 1584                \\\\\n",
       "\t434 & 8923661              & 12/23/2017           & December             & 10:45:00             & 1                    & Day                  & Sat                  & AGG ASSAULT          & Downtown             & 1584                \\\\\n",
       "\t457 & 8923686              & 12/23/2017           & December             & 17:30:00             & 1                    & Eve                  & Sat                  & LARCENY-FROM VEHICLE & Downtown             & 1584                \\\\\n",
       "\t468 & 8923699              & 12/23/2017           & December             & 17:30:00             & 3                    & Eve                  & Sat                  & LARCENY-FROM VEHICLE & Downtown             & 1584                \\\\\n",
       "\t... & ... & ... & ... & ... & ... & ... & ... & ... & ... & ...\\\\\n",
       "\t21631 & 8898100              & 1/8/2017             & January              & 16:00:00             & 1                    & Eve                  & Sun                  & LARCENY-FROM VEHICLE & Tampa Park           & 3                   \\\\\n",
       "\t21950 & 8897654              & 1/2/2017             & January              & 8:00:00              & 1                    & Day                  & Mon                  & AUTO THEFT           & Westover Plantation  & 3                   \\\\\n",
       "\t809 & 8923286              & 12/18/2017           & December             & 20:30:00             & 1                    & Eve                  & Mon                  & AUTO THEFT           & Memorial Park        & 2                   \\\\\n",
       "\t1869 & 8921873              & 12/1/2017            & December             & 5:52:00              & 1                    & Morn                 & Fri                  & AUTO THEFT           & Ben Hill Forest      & 2                   \\\\\n",
       "\t3091 & 8920506              & 11/11/2017           & November             & 20:00:00             & 1                    & Morn                 & Sun                  & LARCENY-FROM VEHICLE & Fairburn Tell        & 2                   \\\\\n",
       "\t3117 & 8920421              & 11/12/2017           & November             & 16:00:00             & 1                    & Eve                  & Sun                  & AGG ASSAULT          & Fort McPherson       & 2                   \\\\\n",
       "\t4917 & 8918285              & 10/17/2017           & October              & 12:42:00             & 1                    & Day                  & Tue                  & LARCENY-NON VEHICLE  & Collier Hills North  & 2                   \\\\\n",
       "\t5198 & 8917932              & 10/12/2017           & October              & 23:00:00             & 1                    & Morn                 & Fri                  & AUTO THEFT           & Kingswood            & 2                   \\\\\n",
       "\t7857 & 8914693              & 9/3/2017             & September            & 23:30:00             & 1                    & Morn                 & Sun                  & LARCENY-FROM VEHICLE & Kingswood            & 2                   \\\\\n",
       "\t8662 & 8913788              & 8/22/2017            & August               & 5:50:00              & 1                    & Morn                 & Tue                  & AUTO THEFT           & Ben Hill Forest      & 2                   \\\\\n",
       "\t9867 & 8912298              & 8/2/2017             & August               & 5:30:00              & 1                    & Morn                 & Wed                  & AGG ASSAULT          & Rue Royal            & 2                   \\\\\n",
       "\t10092 & 8911988              & 7/29/2017            & July                 & 3:30:00              & 1                    & Morn                 & Sat                  & BURGLARY-RESIDENCE   & Horseshoe Community  & 2                   \\\\\n",
       "\t10852 & 8911104              & 7/17/2017            & July                 & 20:30:00             & 1                    & Morn                 & Tue                  & AUTO THEFT           & Niskey Cove          & 2                   \\\\\n",
       "\t13557 & 8907848              & 6/5/2017             & June                 & 5:10:00              & 1                    & Morn                 & Mon                  & LARCENY-NON VEHICLE  & Pomona Park          & 2                   \\\\\n",
       "\t13679 & 8907759              & 6/3/2017             & June                 & 20:45:00             & 1                    & Eve                  & Sat                  & BURGLARY-RESIDENCE   & Niskey Cove          & 2                   \\\\\n",
       "\t13837 & 8907514              & 5/31/2017            & May                  & 12:30:00             & 1                    & Day                  & Wed                  & LARCENY-FROM VEHICLE & Collier Hills North  & 2                   \\\\\n",
       "\t13850 & 8907534              & 5/31/2017            & May                  & 17:22:00             & 1                    & Eve                  & Wed                  & AUTO THEFT           & Fort McPherson       & 2                   \\\\\n",
       "\t14456 & 8906802              & 5/21/2017            & May                  & 18:33:00             & 1                    & Eve                  & Sun                  & LARCENY-FROM VEHICLE & Fairburn Tell        & 2                   \\\\\n",
       "\t14755 & 8906382              & 5/15/2017            & May                  & 18:00:00             & 1                    & Morn                 & Tue                  & LARCENY-FROM VEHICLE & Wildwood Forest      & 2                   \\\\\n",
       "\t14854 & 8906283              & 5/14/2017            & May                  & 12:58:00             & 1                    & Day                  & Sun                  & LARCENY-NON VEHICLE  & Memorial Park        & 2                   \\\\\n",
       "\t15392 & 8905670              & 5/6/2017             & May                  & 0:00:00              & 1                    & Morn                 & Sat                  & AUTO THEFT           & Pomona Park          & 2                   \\\\\n",
       "\t17285 & 8903406              & 4/3/2017             & April                & 17:11:00             & 1                    & Eve                  & Mon                  & AGG ASSAULT          & Wildwood Forest      & 2                   \\\\\n",
       "\t18233 & 8902201              & 3/12/2017            & March                & 21:31:00             & 1                    & Eve                  & Sun                  & AGG ASSAULT          & Rue Royal            & 2                   \\\\\n",
       "\t19419 & 8900650              & 2/14/2017            & February             & 22:00:00             & 1                    & Morn                 & Wed                  & LARCENY-FROM VEHICLE & Horseshoe Community  & 2                   \\\\\n",
       "\t2580 & 8921052              & 11/20/2017           & November             & 10:30:00             & 1                    & Day                  & Mon                  & LARCENY-FROM VEHICLE & Mt. Paran Parkway    & 1                   \\\\\n",
       "\t5776 & 8917316              & 10/5/2017            & October              & 20:51:00             & 2                    & Eve                  & Thu                  & ROBBERY-PEDESTRIAN   & Lake Estates         & 1                   \\\\\n",
       "\t7472 & 8915230              & 9/9/2017             & September            & 12:00:00             & 1                    & Day                  & Sat                  & LARCENY-FROM VEHICLE & Georgia Tech         & 1                   \\\\\n",
       "\t14552 & 8906616              & 5/19/2017            & May                  & 4:45:00              & 1                    & Morn                 & Fri                  & LARCENY-NON VEHICLE  & Just Us              & 1                   \\\\\n",
       "\t15282 & 8905758              & 5/5/2017             & May                  & 20:00:00             & 1                    & Morn                 & Sat                  & LARCENY-NON VEHICLE  & Mellwood             & 1                   \\\\\n",
       "\t21767 & 8897851              & 1/5/2017             & January              & 4:19:00              & 1                    & Morn                 & Thu                  & BURGLARY-RESIDENCE   & Pleasant Hill        & 1                   \\\\\n",
       "\\end{tabular}\n"
      ],
      "text/markdown": [
       "\n",
       "| <!--/--> | MI_PRINX | occur_date | Month | occur_time | MaxOfnum_victims | Shift | Avg.Day | UC2.Literal | neighborhood | freq | \n",
       "|---|---|---|---|---|---|---|---|---|---|---|---|---|---|---|---|---|---|---|---|---|---|---|---|---|---|---|---|---|---|---|---|---|---|---|---|---|---|---|---|---|---|---|---|---|---|---|---|---|---|---|---|---|---|---|---|---|---|---|---|---|\n",
       "| 1 | 8924155              | 12/30/2017           | December             | 23:15:00             | 2                    | Morn                 | Sat                  | LARCENY-FROM VEHICLE | Downtown             | 1584                 | \n",
       "| 25 | 8924182              | 12/30/2017           | December             | 22:00:00             | 1                    | Morn                 | Sun                  | LARCENY-FROM VEHICLE | Downtown             | 1584                 | \n",
       "| 62 | 8924097              | 12/29/2017           | December             | 22:30:00             | 3                    | Morn                 | Sat                  | LARCENY-FROM VEHICLE | Downtown             | 1584                 | \n",
       "| 65 | 8924100              | 12/29/2017           | December             | 21:00:00             | 1                    | Morn                 | Fri                  | LARCENY-FROM VEHICLE | Downtown             | 1584                 | \n",
       "| 140 | 8924079              | 12/29/2017           | December             | 17:15:00             | 1                    | Eve                  | Fri                  | LARCENY-FROM VEHICLE | Downtown             | 1584                 | \n",
       "| 148 | 8924092              | 12/29/2017           | December             | 22:27:00             | 1                    | Eve                  | Fri                  | LARCENY-NON VEHICLE  | Downtown             | 1584                 | \n",
       "| 151 | 8923973              | 12/27/2017           | December             | 20:00:00             | 1                    | Eve                  | Wed                  | LARCENY-FROM VEHICLE | Downtown             | 1584                 | \n",
       "| 161 | 8923983              | 12/28/2017           | December             | 8:14:00              | 1                    | Day                  | Thu                  | LARCENY-NON VEHICLE  | Downtown             | 1584                 | \n",
       "| 194 | 8924022              | 12/28/2017           | December             | 18:06:00             | 1                    | Eve                  | Thu                  | LARCENY-NON VEHICLE  | Downtown             | 1584                 | \n",
       "| 206 | 8924036              | 12/28/2017           | December             | 19:30:00             | 1                    | Eve                  | Thu                  | LARCENY-FROM VEHICLE | Downtown             | 1584                 | \n",
       "| 220 | 8923885              | 12/26/2017           | December             | 7:00:00              | 2                    | Day                  | Tue                  | LARCENY-FROM VEHICLE | Downtown             | 1584                 | \n",
       "| 249 | 8923928              | 12/27/2017           | December             | 8:30:00              | 2                    | Day                  | Wed                  | LARCENY-FROM VEHICLE | Downtown             | 1584                 | \n",
       "| 258 | 8923940              | 12/27/2017           | December             | 16:23:00             | 2                    | Eve                  | Wed                  | AGG ASSAULT          | Downtown             | 1584                 | \n",
       "| 259 | 8923941              | 12/27/2017           | December             | 12:00:00             | 1                    | Eve                  | Wed                  | AUTO THEFT           | Downtown             | 1584                 | \n",
       "| 282 | 8923812              | 12/25/2017           | December             | 20:30:00             | 1                    | Eve                  | Mon                  | ROBBERY-PEDESTRIAN   | Downtown             | 1584                 | \n",
       "| 296 | 8923829              | 12/25/2017           | December             | 21:00:00             | 1                    | Morn                 | Tue                  | AUTO THEFT           | Downtown             | 1584                 | \n",
       "| 313 | 8923856              | 12/26/2017           | December             | 17:55:00             | 1                    | Eve                  | Tue                  | LARCENY-NON VEHICLE  | Downtown             | 1584                 | \n",
       "| 327 | 8923871              | 12/25/2017           | December             | 8:30:00              | 1                    | Day                  | Mon                  | BURGLARY-NONRES      | Downtown             | 1584                 | \n",
       "| 337 | 8923788              | 12/24/2017           | December             | 22:15:00             | 2                    | Morn                 | Sun                  | LARCENY-FROM VEHICLE | Downtown             | 1584                 | \n",
       "| 341 | 8923793              | 12/24/2017           | December             | 17:30:00             | 1                    | Morn                 | Mon                  | LARCENY-FROM VEHICLE | Downtown             | 1584                 | \n",
       "| 348 | 8923800              | 12/25/2017           | December             | 14:47:00             | 1                    | Eve                  | Mon                  | LARCENY-NON VEHICLE  | Downtown             | 1584                 | \n",
       "| 360 | 8923724              | 12/24/2017           | December             | 3:30:00              | 1                    | Morn                 | Sun                  | LARCENY-FROM VEHICLE | Downtown             | 1584                 | \n",
       "| 385 | 8923751              | 12/24/2017           | December             | 16:00:00             | 1                    | Eve                  | Sun                  | LARCENY-NON VEHICLE  | Downtown             | 1584                 | \n",
       "| 396 | 8923763              | 12/24/2017           | December             | 13:00:00             | 1                    | Eve                  | Sun                  | BURGLARY-RESIDENCE   | Downtown             | 1584                 | \n",
       "| 421 | 8923643              | 12/22/2017           | December             | 18:00:00             | 1                    | Eve                  | Fri                  | ROBBERY-PEDESTRIAN   | Downtown             | 1584                 | \n",
       "| 427 | 8923650              | 12/22/2017           | December             | 22:50:00             | 1                    | Morn                 | Sat                  | BURGLARY-NONRES      | Downtown             | 1584                 | \n",
       "| 432 | 8923658              | 12/23/2017           | December             | 10:40:00             | 1                    | Day                  | Sat                  | LARCENY-NON VEHICLE  | Downtown             | 1584                 | \n",
       "| 434 | 8923661              | 12/23/2017           | December             | 10:45:00             | 1                    | Day                  | Sat                  | AGG ASSAULT          | Downtown             | 1584                 | \n",
       "| 457 | 8923686              | 12/23/2017           | December             | 17:30:00             | 1                    | Eve                  | Sat                  | LARCENY-FROM VEHICLE | Downtown             | 1584                 | \n",
       "| 468 | 8923699              | 12/23/2017           | December             | 17:30:00             | 3                    | Eve                  | Sat                  | LARCENY-FROM VEHICLE | Downtown             | 1584                 | \n",
       "| ... | ... | ... | ... | ... | ... | ... | ... | ... | ... | ... | \n",
       "| 21631 | 8898100              | 1/8/2017             | January              | 16:00:00             | 1                    | Eve                  | Sun                  | LARCENY-FROM VEHICLE | Tampa Park           | 3                    | \n",
       "| 21950 | 8897654              | 1/2/2017             | January              | 8:00:00              | 1                    | Day                  | Mon                  | AUTO THEFT           | Westover Plantation  | 3                    | \n",
       "| 809 | 8923286              | 12/18/2017           | December             | 20:30:00             | 1                    | Eve                  | Mon                  | AUTO THEFT           | Memorial Park        | 2                    | \n",
       "| 1869 | 8921873              | 12/1/2017            | December             | 5:52:00              | 1                    | Morn                 | Fri                  | AUTO THEFT           | Ben Hill Forest      | 2                    | \n",
       "| 3091 | 8920506              | 11/11/2017           | November             | 20:00:00             | 1                    | Morn                 | Sun                  | LARCENY-FROM VEHICLE | Fairburn Tell        | 2                    | \n",
       "| 3117 | 8920421              | 11/12/2017           | November             | 16:00:00             | 1                    | Eve                  | Sun                  | AGG ASSAULT          | Fort McPherson       | 2                    | \n",
       "| 4917 | 8918285              | 10/17/2017           | October              | 12:42:00             | 1                    | Day                  | Tue                  | LARCENY-NON VEHICLE  | Collier Hills North  | 2                    | \n",
       "| 5198 | 8917932              | 10/12/2017           | October              | 23:00:00             | 1                    | Morn                 | Fri                  | AUTO THEFT           | Kingswood            | 2                    | \n",
       "| 7857 | 8914693              | 9/3/2017             | September            | 23:30:00             | 1                    | Morn                 | Sun                  | LARCENY-FROM VEHICLE | Kingswood            | 2                    | \n",
       "| 8662 | 8913788              | 8/22/2017            | August               | 5:50:00              | 1                    | Morn                 | Tue                  | AUTO THEFT           | Ben Hill Forest      | 2                    | \n",
       "| 9867 | 8912298              | 8/2/2017             | August               | 5:30:00              | 1                    | Morn                 | Wed                  | AGG ASSAULT          | Rue Royal            | 2                    | \n",
       "| 10092 | 8911988              | 7/29/2017            | July                 | 3:30:00              | 1                    | Morn                 | Sat                  | BURGLARY-RESIDENCE   | Horseshoe Community  | 2                    | \n",
       "| 10852 | 8911104              | 7/17/2017            | July                 | 20:30:00             | 1                    | Morn                 | Tue                  | AUTO THEFT           | Niskey Cove          | 2                    | \n",
       "| 13557 | 8907848              | 6/5/2017             | June                 | 5:10:00              | 1                    | Morn                 | Mon                  | LARCENY-NON VEHICLE  | Pomona Park          | 2                    | \n",
       "| 13679 | 8907759              | 6/3/2017             | June                 | 20:45:00             | 1                    | Eve                  | Sat                  | BURGLARY-RESIDENCE   | Niskey Cove          | 2                    | \n",
       "| 13837 | 8907514              | 5/31/2017            | May                  | 12:30:00             | 1                    | Day                  | Wed                  | LARCENY-FROM VEHICLE | Collier Hills North  | 2                    | \n",
       "| 13850 | 8907534              | 5/31/2017            | May                  | 17:22:00             | 1                    | Eve                  | Wed                  | AUTO THEFT           | Fort McPherson       | 2                    | \n",
       "| 14456 | 8906802              | 5/21/2017            | May                  | 18:33:00             | 1                    | Eve                  | Sun                  | LARCENY-FROM VEHICLE | Fairburn Tell        | 2                    | \n",
       "| 14755 | 8906382              | 5/15/2017            | May                  | 18:00:00             | 1                    | Morn                 | Tue                  | LARCENY-FROM VEHICLE | Wildwood Forest      | 2                    | \n",
       "| 14854 | 8906283              | 5/14/2017            | May                  | 12:58:00             | 1                    | Day                  | Sun                  | LARCENY-NON VEHICLE  | Memorial Park        | 2                    | \n",
       "| 15392 | 8905670              | 5/6/2017             | May                  | 0:00:00              | 1                    | Morn                 | Sat                  | AUTO THEFT           | Pomona Park          | 2                    | \n",
       "| 17285 | 8903406              | 4/3/2017             | April                | 17:11:00             | 1                    | Eve                  | Mon                  | AGG ASSAULT          | Wildwood Forest      | 2                    | \n",
       "| 18233 | 8902201              | 3/12/2017            | March                | 21:31:00             | 1                    | Eve                  | Sun                  | AGG ASSAULT          | Rue Royal            | 2                    | \n",
       "| 19419 | 8900650              | 2/14/2017            | February             | 22:00:00             | 1                    | Morn                 | Wed                  | LARCENY-FROM VEHICLE | Horseshoe Community  | 2                    | \n",
       "| 2580 | 8921052              | 11/20/2017           | November             | 10:30:00             | 1                    | Day                  | Mon                  | LARCENY-FROM VEHICLE | Mt. Paran Parkway    | 1                    | \n",
       "| 5776 | 8917316              | 10/5/2017            | October              | 20:51:00             | 2                    | Eve                  | Thu                  | ROBBERY-PEDESTRIAN   | Lake Estates         | 1                    | \n",
       "| 7472 | 8915230              | 9/9/2017             | September            | 12:00:00             | 1                    | Day                  | Sat                  | LARCENY-FROM VEHICLE | Georgia Tech         | 1                    | \n",
       "| 14552 | 8906616              | 5/19/2017            | May                  | 4:45:00              | 1                    | Morn                 | Fri                  | LARCENY-NON VEHICLE  | Just Us              | 1                    | \n",
       "| 15282 | 8905758              | 5/5/2017             | May                  | 20:00:00             | 1                    | Morn                 | Sat                  | LARCENY-NON VEHICLE  | Mellwood             | 1                    | \n",
       "| 21767 | 8897851              | 1/5/2017             | January              | 4:19:00              | 1                    | Morn                 | Thu                  | BURGLARY-RESIDENCE   | Pleasant Hill        | 1                    | \n",
       "\n",
       "\n"
      ],
      "text/plain": [
       "      MI_PRINX occur_date Month     occur_time MaxOfnum_victims Shift Avg.Day\n",
       "1     8924155  12/30/2017 December  23:15:00   2                Morn  Sat    \n",
       "25    8924182  12/30/2017 December  22:00:00   1                Morn  Sun    \n",
       "62    8924097  12/29/2017 December  22:30:00   3                Morn  Sat    \n",
       "65    8924100  12/29/2017 December  21:00:00   1                Morn  Fri    \n",
       "140   8924079  12/29/2017 December  17:15:00   1                Eve   Fri    \n",
       "148   8924092  12/29/2017 December  22:27:00   1                Eve   Fri    \n",
       "151   8923973  12/27/2017 December  20:00:00   1                Eve   Wed    \n",
       "161   8923983  12/28/2017 December  8:14:00    1                Day   Thu    \n",
       "194   8924022  12/28/2017 December  18:06:00   1                Eve   Thu    \n",
       "206   8924036  12/28/2017 December  19:30:00   1                Eve   Thu    \n",
       "220   8923885  12/26/2017 December  7:00:00    2                Day   Tue    \n",
       "249   8923928  12/27/2017 December  8:30:00    2                Day   Wed    \n",
       "258   8923940  12/27/2017 December  16:23:00   2                Eve   Wed    \n",
       "259   8923941  12/27/2017 December  12:00:00   1                Eve   Wed    \n",
       "282   8923812  12/25/2017 December  20:30:00   1                Eve   Mon    \n",
       "296   8923829  12/25/2017 December  21:00:00   1                Morn  Tue    \n",
       "313   8923856  12/26/2017 December  17:55:00   1                Eve   Tue    \n",
       "327   8923871  12/25/2017 December  8:30:00    1                Day   Mon    \n",
       "337   8923788  12/24/2017 December  22:15:00   2                Morn  Sun    \n",
       "341   8923793  12/24/2017 December  17:30:00   1                Morn  Mon    \n",
       "348   8923800  12/25/2017 December  14:47:00   1                Eve   Mon    \n",
       "360   8923724  12/24/2017 December  3:30:00    1                Morn  Sun    \n",
       "385   8923751  12/24/2017 December  16:00:00   1                Eve   Sun    \n",
       "396   8923763  12/24/2017 December  13:00:00   1                Eve   Sun    \n",
       "421   8923643  12/22/2017 December  18:00:00   1                Eve   Fri    \n",
       "427   8923650  12/22/2017 December  22:50:00   1                Morn  Sat    \n",
       "432   8923658  12/23/2017 December  10:40:00   1                Day   Sat    \n",
       "434   8923661  12/23/2017 December  10:45:00   1                Day   Sat    \n",
       "457   8923686  12/23/2017 December  17:30:00   1                Eve   Sat    \n",
       "468   8923699  12/23/2017 December  17:30:00   3                Eve   Sat    \n",
       "...   ...      ...        ...       ...        ...              ...   ...    \n",
       "21631 8898100  1/8/2017   January   16:00:00   1                Eve   Sun    \n",
       "21950 8897654  1/2/2017   January   8:00:00    1                Day   Mon    \n",
       "809   8923286  12/18/2017 December  20:30:00   1                Eve   Mon    \n",
       "1869  8921873  12/1/2017  December  5:52:00    1                Morn  Fri    \n",
       "3091  8920506  11/11/2017 November  20:00:00   1                Morn  Sun    \n",
       "3117  8920421  11/12/2017 November  16:00:00   1                Eve   Sun    \n",
       "4917  8918285  10/17/2017 October   12:42:00   1                Day   Tue    \n",
       "5198  8917932  10/12/2017 October   23:00:00   1                Morn  Fri    \n",
       "7857  8914693  9/3/2017   September 23:30:00   1                Morn  Sun    \n",
       "8662  8913788  8/22/2017  August    5:50:00    1                Morn  Tue    \n",
       "9867  8912298  8/2/2017   August    5:30:00    1                Morn  Wed    \n",
       "10092 8911988  7/29/2017  July      3:30:00    1                Morn  Sat    \n",
       "10852 8911104  7/17/2017  July      20:30:00   1                Morn  Tue    \n",
       "13557 8907848  6/5/2017   June      5:10:00    1                Morn  Mon    \n",
       "13679 8907759  6/3/2017   June      20:45:00   1                Eve   Sat    \n",
       "13837 8907514  5/31/2017  May       12:30:00   1                Day   Wed    \n",
       "13850 8907534  5/31/2017  May       17:22:00   1                Eve   Wed    \n",
       "14456 8906802  5/21/2017  May       18:33:00   1                Eve   Sun    \n",
       "14755 8906382  5/15/2017  May       18:00:00   1                Morn  Tue    \n",
       "14854 8906283  5/14/2017  May       12:58:00   1                Day   Sun    \n",
       "15392 8905670  5/6/2017   May       0:00:00    1                Morn  Sat    \n",
       "17285 8903406  4/3/2017   April     17:11:00   1                Eve   Mon    \n",
       "18233 8902201  3/12/2017  March     21:31:00   1                Eve   Sun    \n",
       "19419 8900650  2/14/2017  February  22:00:00   1                Morn  Wed    \n",
       "2580  8921052  11/20/2017 November  10:30:00   1                Day   Mon    \n",
       "5776  8917316  10/5/2017  October   20:51:00   2                Eve   Thu    \n",
       "7472  8915230  9/9/2017   September 12:00:00   1                Day   Sat    \n",
       "14552 8906616  5/19/2017  May       4:45:00    1                Morn  Fri    \n",
       "15282 8905758  5/5/2017   May       20:00:00   1                Morn  Sat    \n",
       "21767 8897851  1/5/2017   January   4:19:00    1                Morn  Thu    \n",
       "      UC2.Literal          neighborhood        freq\n",
       "1     LARCENY-FROM VEHICLE Downtown            1584\n",
       "25    LARCENY-FROM VEHICLE Downtown            1584\n",
       "62    LARCENY-FROM VEHICLE Downtown            1584\n",
       "65    LARCENY-FROM VEHICLE Downtown            1584\n",
       "140   LARCENY-FROM VEHICLE Downtown            1584\n",
       "148   LARCENY-NON VEHICLE  Downtown            1584\n",
       "151   LARCENY-FROM VEHICLE Downtown            1584\n",
       "161   LARCENY-NON VEHICLE  Downtown            1584\n",
       "194   LARCENY-NON VEHICLE  Downtown            1584\n",
       "206   LARCENY-FROM VEHICLE Downtown            1584\n",
       "220   LARCENY-FROM VEHICLE Downtown            1584\n",
       "249   LARCENY-FROM VEHICLE Downtown            1584\n",
       "258   AGG ASSAULT          Downtown            1584\n",
       "259   AUTO THEFT           Downtown            1584\n",
       "282   ROBBERY-PEDESTRIAN   Downtown            1584\n",
       "296   AUTO THEFT           Downtown            1584\n",
       "313   LARCENY-NON VEHICLE  Downtown            1584\n",
       "327   BURGLARY-NONRES      Downtown            1584\n",
       "337   LARCENY-FROM VEHICLE Downtown            1584\n",
       "341   LARCENY-FROM VEHICLE Downtown            1584\n",
       "348   LARCENY-NON VEHICLE  Downtown            1584\n",
       "360   LARCENY-FROM VEHICLE Downtown            1584\n",
       "385   LARCENY-NON VEHICLE  Downtown            1584\n",
       "396   BURGLARY-RESIDENCE   Downtown            1584\n",
       "421   ROBBERY-PEDESTRIAN   Downtown            1584\n",
       "427   BURGLARY-NONRES      Downtown            1584\n",
       "432   LARCENY-NON VEHICLE  Downtown            1584\n",
       "434   AGG ASSAULT          Downtown            1584\n",
       "457   LARCENY-FROM VEHICLE Downtown            1584\n",
       "468   LARCENY-FROM VEHICLE Downtown            1584\n",
       "...   ...                  ...                 ... \n",
       "21631 LARCENY-FROM VEHICLE Tampa Park          3   \n",
       "21950 AUTO THEFT           Westover Plantation 3   \n",
       "809   AUTO THEFT           Memorial Park       2   \n",
       "1869  AUTO THEFT           Ben Hill Forest     2   \n",
       "3091  LARCENY-FROM VEHICLE Fairburn Tell       2   \n",
       "3117  AGG ASSAULT          Fort McPherson      2   \n",
       "4917  LARCENY-NON VEHICLE  Collier Hills North 2   \n",
       "5198  AUTO THEFT           Kingswood           2   \n",
       "7857  LARCENY-FROM VEHICLE Kingswood           2   \n",
       "8662  AUTO THEFT           Ben Hill Forest     2   \n",
       "9867  AGG ASSAULT          Rue Royal           2   \n",
       "10092 BURGLARY-RESIDENCE   Horseshoe Community 2   \n",
       "10852 AUTO THEFT           Niskey Cove         2   \n",
       "13557 LARCENY-NON VEHICLE  Pomona Park         2   \n",
       "13679 BURGLARY-RESIDENCE   Niskey Cove         2   \n",
       "13837 LARCENY-FROM VEHICLE Collier Hills North 2   \n",
       "13850 AUTO THEFT           Fort McPherson      2   \n",
       "14456 LARCENY-FROM VEHICLE Fairburn Tell       2   \n",
       "14755 LARCENY-FROM VEHICLE Wildwood Forest     2   \n",
       "14854 LARCENY-NON VEHICLE  Memorial Park       2   \n",
       "15392 AUTO THEFT           Pomona Park         2   \n",
       "17285 AGG ASSAULT          Wildwood Forest     2   \n",
       "18233 AGG ASSAULT          Rue Royal           2   \n",
       "19419 LARCENY-FROM VEHICLE Horseshoe Community 2   \n",
       "2580  LARCENY-FROM VEHICLE Mt. Paran Parkway   1   \n",
       "5776  ROBBERY-PEDESTRIAN   Lake Estates        1   \n",
       "7472  LARCENY-FROM VEHICLE Georgia Tech        1   \n",
       "14552 LARCENY-NON VEHICLE  Just Us             1   \n",
       "15282 LARCENY-NON VEHICLE  Mellwood            1   \n",
       "21767 BURGLARY-RESIDENCE   Pleasant Hill       1   "
      ]
     },
     "metadata": {},
     "output_type": "display_data"
    }
   ],
   "source": [
    "main = transform(main, freq = ave(seq(nrow(main)), neighborhood, FUN=length))\n",
    "main[order(-main$freq), ]"
   ]
  },
  {
   "cell_type": "code",
   "execution_count": null,
   "metadata": {},
   "outputs": [],
   "source": [
    "tab <- table(neighborhood)\n",
    "df[neighborhood %in% names(tab)[tab>],]"
   ]
  },
  {
   "cell_type": "markdown",
   "metadata": {},
   "source": [
    "### KNN"
   ]
  },
  {
   "cell_type": "code",
   "execution_count": 53,
   "metadata": {
    "collapsed": true
   },
   "outputs": [
    {
     "name": "stderr",
     "output_type": "stream",
     "text": [
      "Warning message in knn(train.set, main25[-train, ], train.set$UC2.Literal, k = 10):\n",
      "\"NAs introduced by coercion\"Warning message in knn(train.set, main25[-train, ], train.set$UC2.Literal, k = 10):\n",
      "\"NAs introduced by coercion\""
     ]
    },
    {
     "ename": "ERROR",
     "evalue": "Error in knn(train.set, main25[-train, ], train.set$UC2.Literal, k = 10): NA/NaN/Inf in foreign function call (arg 6)\n",
     "output_type": "error",
     "traceback": [
      "Error in knn(train.set, main25[-train, ], train.set$UC2.Literal, k = 10): NA/NaN/Inf in foreign function call (arg 6)\nTraceback:\n",
      "1. knn(train.set, main25[-train, ], train.set$UC2.Literal, k = 10)"
     ]
    }
   ],
   "source": [
    "model = knn(train.set, main25[-train,], train.set$UC2.Literal, k=10)"
   ]
  },
  {
   "cell_type": "code",
   "execution_count": null,
   "metadata": {},
   "outputs": [],
   "source": [
    "test.set = main25[-train,]\n",
    "\n",
    "# test.set = test.set[-1,]"
   ]
  },
  {
   "cell_type": "markdown",
   "metadata": {},
   "source": [
    "## MART\n",
    "\n",
    "#### MART is an implementation of the gradient tree boosting methods for predictive data mining (regression and classification) described in Greedy Function Approximation: A Gradient Boosting Machine and Stochastic Gradient Boosting.\n",
    "\n",
    "#### Gradient boosting is an ensemble supervised machine learning model that builds up the concept of the random forest algorithm.  The algorithm iteratively builds trees that minimize the error, and thereby descends towards an optimal set of predictive trees. Already learned trees are kept, and new trees are added one after another to minimize the objective function (error in predictions). The trees are grown sequentially: each tree is grown using information from previously grown trees. Each tree is fit on a modified version of the original data set based on the previous trees built.\n",
    "\n",
    "#### The trees are accompanied by a regularization parameter to avoid overfit."
   ]
  },
  {
   "cell_type": "code",
   "execution_count": 67,
   "metadata": {
    "collapsed": true
   },
   "outputs": [
    {
     "data": {
      "text/html": [
       "<table>\n",
       "<thead><tr><th></th><th scope=col>MI_PRINX</th><th scope=col>occur_date</th><th scope=col>Month</th><th scope=col>occur_time</th><th scope=col>MaxOfnum_victims</th><th scope=col>Shift</th><th scope=col>UC2 Literal</th><th scope=col>neighborhood</th></tr></thead>\n",
       "<tbody>\n",
       "\t<tr><th scope=row>8693</th><td>8913724                  </td><td>8/20/2017                </td><td>August                   </td><td>20:07:00                 </td><td>1                        </td><td>Eve                      </td><td>LARCENY-FROM VEHICLE     </td><td>Mechanicsville           </td></tr>\n",
       "\t<tr><th scope=row>20238</th><td>8899794                  </td><td>2/1/2017                 </td><td>February                 </td><td>18:25:00                 </td><td>1                        </td><td>Eve                      </td><td>AUTO THEFT               </td><td>Grove Park               </td></tr>\n",
       "\t<tr><th scope=row>9626</th><td>8912600                  </td><td>8/6/2017                 </td><td>August                   </td><td>0:30:00                  </td><td>1                        </td><td>Morn                     </td><td>LARCENY-FROM VEHICLE     </td><td>Buckhead Forest          </td></tr>\n",
       "\t<tr><th scope=row>342</th><td>8923794                  </td><td>12/25/2017               </td><td>December                 </td><td>1:00:00                  </td><td>1                        </td><td>Morn                     </td><td>AUTO THEFT               </td><td>Cascade Avenue/Road      </td></tr>\n",
       "\t<tr><th scope=row>4955</th><td>8917046                  </td><td>10/2/2017                </td><td>October                  </td><td>4:30:00                  </td><td>1                        </td><td>Morn                     </td><td>AUTO THEFT               </td><td>Greenbriar               </td></tr>\n",
       "\t<tr><th scope=row>17212</th><td>8903452                  </td><td>4/4/2017                 </td><td>April                    </td><td>12:00:00                 </td><td>1                        </td><td>Day                      </td><td>LARCENY-NON VEHICLE      </td><td>Castleberry Hill         </td></tr>\n",
       "\t<tr><th scope=row>2989</th><td>8920546                  </td><td>11/14/2017               </td><td>November                 </td><td>6:50:00                  </td><td>1                        </td><td>Morn                     </td><td>AUTO THEFT               </td><td>Princeton Lakes          </td></tr>\n",
       "\t<tr><th scope=row>12466</th><td>8909165                  </td><td>6/21/2017                </td><td>June                     </td><td>10:00:00                 </td><td>2                        </td><td>Day                      </td><td>LARCENY-NON VEHICLE      </td><td>Garden Hills             </td></tr>\n",
       "\t<tr><th scope=row>7729</th><td>8914901                  </td><td>9/5/2017                 </td><td>September                </td><td>12:15:00                 </td><td>1                        </td><td>Day                      </td><td>LARCENY-FROM VEHICLE     </td><td>Ormewood Park            </td></tr>\n",
       "\t<tr><th scope=row>7330</th><td>8915477                  </td><td>9/12/2017                </td><td>September                </td><td>19:30:00                 </td><td>1                        </td><td>Eve                      </td><td>LARCENY-FROM VEHICLE     </td><td>Lindridge/Martin Manor   </td></tr>\n",
       "\t<tr><th scope=row>18445</th><td>8901905                  </td><td>3/7/2017                 </td><td>March                    </td><td>9:50:00                  </td><td>1                        </td><td>Day                      </td><td>LARCENY-FROM VEHICLE     </td><td>Oakland City             </td></tr>\n",
       "\t<tr><th scope=row>14884</th><td>8906246                  </td><td>5/9/2017                 </td><td>May                      </td><td>7:45:00                  </td><td>1                        </td><td>Day                      </td><td>LARCENY-NON VEHICLE      </td><td>Old Fourth Ward          </td></tr>\n",
       "\t<tr><th scope=row>3126</th><td>8920432                  </td><td>11/12/2017               </td><td>November                 </td><td>18:00:00                 </td><td>1                        </td><td>Eve                      </td><td>AUTO THEFT               </td><td>Atlanta University Center</td></tr>\n",
       "\t<tr><th scope=row>12604</th><td>8909037                  </td><td>6/20/2017                </td><td>June                     </td><td>20:20:00                 </td><td>1                        </td><td>Eve                      </td><td>AUTO THEFT               </td><td>Downtown                 </td></tr>\n",
       "\t<tr><th scope=row>20418</th><td>8899600                  </td><td>1/29/2017                </td><td>January                  </td><td>22:00:00                 </td><td>1                        </td><td>Eve                      </td><td>AGG ASSAULT              </td><td>Downtown                 </td></tr>\n",
       "\t<tr><th scope=row>21475</th><td>8898318                  </td><td>1/11/2017                </td><td>January                  </td><td>18:20:00                 </td><td>1                        </td><td>Eve                      </td><td>AGG ASSAULT              </td><td>Campbellton Road         </td></tr>\n",
       "\t<tr><th scope=row>1023</th><td>8923019                  </td><td>12/15/2017               </td><td>December                 </td><td>11:30:00                 </td><td>1                        </td><td>Day                      </td><td>LARCENY-NON VEHICLE      </td><td>North Buckhead           </td></tr>\n",
       "\t<tr><th scope=row>20721</th><td>8899045                  </td><td>1/22/2017                </td><td>January                  </td><td>3:24:00                  </td><td>1                        </td><td>Morn                     </td><td>AGG ASSAULT              </td><td>Lindridge/Martin Manor   </td></tr>\n",
       "\t<tr><th scope=row>18610</th><td>8901741                  </td><td>3/4/2017                 </td><td>March                    </td><td>18:00:00                 </td><td>1                        </td><td>Eve                      </td><td>LARCENY-NON VEHICLE      </td><td>Midtown                  </td></tr>\n",
       "\t<tr><th scope=row>17230</th><td>8903477                  </td><td>4/4/2017                 </td><td>April                    </td><td>20:50:00                 </td><td>1                        </td><td>Eve                      </td><td>BURGLARY-RESIDENCE       </td><td>Ormewood Park            </td></tr>\n",
       "\t<tr><th scope=row>20158</th><td>8899857                  </td><td>2/2/2017                 </td><td>February                 </td><td>19:00:00                 </td><td>1                        </td><td>Eve                      </td><td>AGG ASSAULT              </td><td>West End                 </td></tr>\n",
       "\t<tr><th scope=row>6862</th><td>8916054                  </td><td>9/19/2017                </td><td>September                </td><td>20:30:00                 </td><td>1                        </td><td>Eve                      </td><td>LARCENY-FROM VEHICLE     </td><td>Blair Villa/Poole Creek  </td></tr>\n",
       "\t<tr><th scope=row>10878</th><td>8911136                  </td><td>7/18/2017                </td><td>July                     </td><td>16:30:00                 </td><td>1                        </td><td>Eve                      </td><td>AGG ASSAULT              </td><td>Center Hill              </td></tr>\n",
       "\t<tr><th scope=row>11007</th><td>8910977                  </td><td>7/16/2017                </td><td>July                     </td><td>0:05:00                  </td><td>1                        </td><td>Morn                     </td><td>LARCENY-FROM VEHICLE     </td><td>Benteen Park             </td></tr>\n",
       "\t<tr><th scope=row>1496</th><td>8922406                  </td><td>12/7/2017                </td><td>December                 </td><td>23:23:00                 </td><td>1                        </td><td>Morn                     </td><td>LARCENY-FROM VEHICLE     </td><td>Inman Park               </td></tr>\n",
       "\t<tr><th scope=row>8615</th><td>8913920                  </td><td>8/23/2017                </td><td>August                   </td><td>19:30:00                 </td><td>1                        </td><td>Eve                      </td><td>LARCENY-NON VEHICLE      </td><td>Edgewood                 </td></tr>\n",
       "\t<tr><th scope=row>17127</th><td>8903548                  </td><td>4/6/2017                 </td><td>April                    </td><td>7:53:00                  </td><td>1                        </td><td>Day                      </td><td>LARCENY-FROM VEHICLE     </td><td>Old Fourth Ward          </td></tr>\n",
       "\t<tr><th scope=row>7392</th><td>8915331                  </td><td>9/10/2017                </td><td>September                </td><td>21:20:00                 </td><td>1                        </td><td>Eve                      </td><td>AUTO THEFT               </td><td>Cascade Heights          </td></tr>\n",
       "\t<tr><th scope=row>604</th><td>8923503                  </td><td>12/21/2017               </td><td>December                 </td><td>5:30:00                  </td><td>1                        </td><td>Day                      </td><td>LARCENY-FROM VEHICLE     </td><td>Mechanicsville           </td></tr>\n",
       "\t<tr><th scope=row>5497</th><td>8917635                  </td><td>10/9/2017                </td><td>October                  </td><td>15:00:00                 </td><td>1                        </td><td>Eve                      </td><td>LARCENY-FROM VEHICLE     </td><td>Underwood Hills          </td></tr>\n",
       "\t<tr><th scope=row>...</th><td>...</td><td>...</td><td>...</td><td>...</td><td>...</td><td>...</td><td>...</td><td>...</td></tr>\n",
       "\t<tr><th scope=row>11202</th><td>8910677                   </td><td>7/12/2017                 </td><td>July                      </td><td>19:00:00                  </td><td>1                         </td><td>Morn                      </td><td>BURGLARY-NONRES           </td><td>Glenrose Heights          </td></tr>\n",
       "\t<tr><th scope=row>7971</th><td>8914660                   </td><td>9/2/2017                  </td><td>September                 </td><td>15:25:00                  </td><td>1                         </td><td>Eve                       </td><td>AGG ASSAULT               </td><td>East Atlanta              </td></tr>\n",
       "\t<tr><th scope=row>5587</th><td>8917561                   </td><td>10/8/2017                 </td><td>October                   </td><td>18:00:00                  </td><td>4                         </td><td>Eve                       </td><td>LARCENY-FROM VEHICLE      </td><td>Loring Heights            </td></tr>\n",
       "\t<tr><th scope=row>14209</th><td>8907116                   </td><td>5/25/2017                 </td><td>May                       </td><td>8:08:00                   </td><td>1                         </td><td>Eve                       </td><td>LARCENY-FROM VEHICLE      </td><td>Grant Park                </td></tr>\n",
       "\t<tr><th scope=row>9168</th><td>8913193                   </td><td>8/14/2017                 </td><td>August                    </td><td>19:22:00                  </td><td>1                         </td><td>Eve                       </td><td>LARCENY-FROM VEHICLE      </td><td>Chastain Park             </td></tr>\n",
       "\t<tr><th scope=row>19454</th><td>8900690                   </td><td>2/15/2017                 </td><td>February                  </td><td>18:00:00                  </td><td>2                         </td><td>Eve                       </td><td>LARCENY-FROM VEHICLE      </td><td>Kings Forest              </td></tr>\n",
       "\t<tr><th scope=row>8195</th><td>8914369                   </td><td>8/29/2017                 </td><td>August                    </td><td>15:55:00                  </td><td>1                         </td><td>Eve                       </td><td>LARCENY-NON VEHICLE       </td><td>Perkerson                 </td></tr>\n",
       "\t<tr><th scope=row>3656</th><td>8919820                   </td><td>11/5/2017                 </td><td>November                  </td><td>3:30:00                   </td><td>1                         </td><td>Morn                      </td><td>AUTO THEFT                </td><td>Peachtree Battle Alliance </td></tr>\n",
       "\t<tr><th scope=row>16705</th><td>8904016                   </td><td>4/13/2017                 </td><td>April                     </td><td>6:30:00                   </td><td>1                         </td><td>Morn                      </td><td>BURGLARY-RESIDENCE        </td><td>Edgewood                  </td></tr>\n",
       "\t<tr><th scope=row>17091</th><td>8903575                   </td><td>4/6/2017                  </td><td>April                     </td><td>13:20:00                  </td><td>1                         </td><td>Day                       </td><td>LARCENY-NON VEHICLE       </td><td>West Paces Ferry/Northside</td></tr>\n",
       "\t<tr><th scope=row>843</th><td>8923148                   </td><td>12/16/2017                </td><td>December                  </td><td>20:00:00                  </td><td>1                         </td><td>Eve                       </td><td>LARCENY-NON VEHICLE       </td><td>Bankhead                  </td></tr>\n",
       "\t<tr><th scope=row>2426</th><td>8921253                   </td><td>11/23/2017                </td><td>November                  </td><td>2:00:00                   </td><td>1                         </td><td>Morn                      </td><td>LARCENY-NON VEHICLE       </td><td>Downtown                  </td></tr>\n",
       "\t<tr><th scope=row>10442</th><td>8911658                   </td><td>3/25/2017                 </td><td>March                     </td><td>12:00:00                  </td><td>1                         </td><td>Day                       </td><td>LARCENY-FROM VEHICLE      </td><td>Peoplestown               </td></tr>\n",
       "\t<tr><th scope=row>1384</th><td>8922496                   </td><td>12/9/2017                 </td><td>December                  </td><td>3:00:00                   </td><td>1                         </td><td>Morn                      </td><td>LARCENY-FROM VEHICLE      </td><td>Glenrose Heights          </td></tr>\n",
       "\t<tr><th scope=row>9364</th><td>8912933                   </td><td>8/11/2017                 </td><td>August                    </td><td>11:30:00                  </td><td>1                         </td><td>Day                       </td><td>LARCENY-NON VEHICLE       </td><td>Piedmont Heights          </td></tr>\n",
       "\t<tr><th scope=row>16142</th><td>8904726                   </td><td>4/23/2017                 </td><td>April                     </td><td>4:00:00                   </td><td>4                         </td><td>Morn                      </td><td>LARCENY-FROM VEHICLE      </td><td>Midtown                   </td></tr>\n",
       "\t<tr><th scope=row>19099</th><td>8901086                   </td><td>2/21/2017                 </td><td>February                  </td><td>1:00:00                   </td><td>1                         </td><td>Morn                      </td><td>LARCENY-FROM VEHICLE      </td><td>Home Park                 </td></tr>\n",
       "\t<tr><th scope=row>9252</th><td>8913108                   </td><td>8/13/2017                 </td><td>August                    </td><td>21:34:00                  </td><td>1                         </td><td>Eve                       </td><td>LARCENY-FROM VEHICLE      </td><td>Berkeley Park             </td></tr>\n",
       "\t<tr><th scope=row>9342</th><td>8913042                   </td><td>8/12/2017                 </td><td>August                    </td><td>19:30:00                  </td><td>1                         </td><td>Eve                       </td><td>LARCENY-NON VEHICLE       </td><td>Lake Claire               </td></tr>\n",
       "\t<tr><th scope=row>12871</th><td>8908725                   </td><td>6/16/2017                 </td><td>June                      </td><td>8:00:00                   </td><td>1                         </td><td>Day                       </td><td>LARCENY-NON VEHICLE       </td><td>East Lake                 </td></tr>\n",
       "\t<tr><th scope=row>8164</th><td>8914328                   </td><td>8/28/2017                 </td><td>August                    </td><td>22:00:00                  </td><td>1                         </td><td>Morn                      </td><td>LARCENY-FROM VEHICLE      </td><td>Bolton                    </td></tr>\n",
       "\t<tr><th scope=row>20163</th><td>8899864                   </td><td>2/2/2017                  </td><td>February                  </td><td>17:00:00                  </td><td>1                         </td><td>Eve                       </td><td>LARCENY-FROM VEHICLE      </td><td>Poncey-Highland           </td></tr>\n",
       "\t<tr><th scope=row>10855</th><td>8911107                   </td><td>7/18/2017                 </td><td>July                      </td><td>8:00:00                   </td><td>1                         </td><td>Day                       </td><td>LARCENY-NON VEHICLE       </td><td>Old Fourth Ward           </td></tr>\n",
       "\t<tr><th scope=row>9225</th><td>8913172                   </td><td>8/14/2017                 </td><td>August                    </td><td>3:00:00                   </td><td>1                         </td><td>Morn                      </td><td>LARCENY-FROM VEHICLE      </td><td>The Villages at Carver    </td></tr>\n",
       "\t<tr><th scope=row>21051</th><td>8898788                   </td><td>1/18/2017                 </td><td>January                   </td><td>12:00:00                  </td><td>1                         </td><td>Day                       </td><td>AGG ASSAULT               </td><td>Chosewood Park            </td></tr>\n",
       "\t<tr><th scope=row>5334</th><td>8917780                   </td><td>10/11/2017                </td><td>October                   </td><td>13:40:00                  </td><td>1                         </td><td>Day                       </td><td>LARCENY-FROM VEHICLE      </td><td>Mt. Paran/Northside       </td></tr>\n",
       "\t<tr><th scope=row>13390</th><td>8908140                   </td><td>6/8/2017                  </td><td>June                      </td><td>21:55:00                  </td><td>1                         </td><td>Eve                       </td><td>LARCENY-FROM VEHICLE      </td><td>Midtown                   </td></tr>\n",
       "\t<tr><th scope=row>427</th><td>8923650                   </td><td>12/22/2017                </td><td>December                  </td><td>22:50:00                  </td><td>1                         </td><td>Morn                      </td><td>BURGLARY-NONRES           </td><td>Downtown                  </td></tr>\n",
       "\t<tr><th scope=row>9896</th><td>8912332                   </td><td>7/24/2017                 </td><td>July                      </td><td>7:00:00                   </td><td>1                         </td><td>Day                       </td><td>AGG ASSAULT               </td><td>Midtown                   </td></tr>\n",
       "\t<tr><th scope=row>15839</th><td>8905094                   </td><td>4/28/2017                 </td><td>April                     </td><td>8:30:00                   </td><td>0                         </td><td>Day                       </td><td>LARCENY-NON VEHICLE       </td><td>Downtown                  </td></tr>\n",
       "</tbody>\n",
       "</table>\n"
      ],
      "text/latex": [
       "\\begin{tabular}{r|llllllll}\n",
       "  & MI\\_PRINX & occur\\_date & Month & occur\\_time & MaxOfnum\\_victims & Shift & UC2 Literal & neighborhood\\\\\n",
       "\\hline\n",
       "\t8693 & 8913724                   & 8/20/2017                 & August                    & 20:07:00                  & 1                         & Eve                       & LARCENY-FROM VEHICLE      & Mechanicsville           \\\\\n",
       "\t20238 & 8899794                   & 2/1/2017                  & February                  & 18:25:00                  & 1                         & Eve                       & AUTO THEFT                & Grove Park               \\\\\n",
       "\t9626 & 8912600                   & 8/6/2017                  & August                    & 0:30:00                   & 1                         & Morn                      & LARCENY-FROM VEHICLE      & Buckhead Forest          \\\\\n",
       "\t342 & 8923794                   & 12/25/2017                & December                  & 1:00:00                   & 1                         & Morn                      & AUTO THEFT                & Cascade Avenue/Road      \\\\\n",
       "\t4955 & 8917046                   & 10/2/2017                 & October                   & 4:30:00                   & 1                         & Morn                      & AUTO THEFT                & Greenbriar               \\\\\n",
       "\t17212 & 8903452                   & 4/4/2017                  & April                     & 12:00:00                  & 1                         & Day                       & LARCENY-NON VEHICLE       & Castleberry Hill         \\\\\n",
       "\t2989 & 8920546                   & 11/14/2017                & November                  & 6:50:00                   & 1                         & Morn                      & AUTO THEFT                & Princeton Lakes          \\\\\n",
       "\t12466 & 8909165                   & 6/21/2017                 & June                      & 10:00:00                  & 2                         & Day                       & LARCENY-NON VEHICLE       & Garden Hills             \\\\\n",
       "\t7729 & 8914901                   & 9/5/2017                  & September                 & 12:15:00                  & 1                         & Day                       & LARCENY-FROM VEHICLE      & Ormewood Park            \\\\\n",
       "\t7330 & 8915477                   & 9/12/2017                 & September                 & 19:30:00                  & 1                         & Eve                       & LARCENY-FROM VEHICLE      & Lindridge/Martin Manor   \\\\\n",
       "\t18445 & 8901905                   & 3/7/2017                  & March                     & 9:50:00                   & 1                         & Day                       & LARCENY-FROM VEHICLE      & Oakland City             \\\\\n",
       "\t14884 & 8906246                   & 5/9/2017                  & May                       & 7:45:00                   & 1                         & Day                       & LARCENY-NON VEHICLE       & Old Fourth Ward          \\\\\n",
       "\t3126 & 8920432                   & 11/12/2017                & November                  & 18:00:00                  & 1                         & Eve                       & AUTO THEFT                & Atlanta University Center\\\\\n",
       "\t12604 & 8909037                   & 6/20/2017                 & June                      & 20:20:00                  & 1                         & Eve                       & AUTO THEFT                & Downtown                 \\\\\n",
       "\t20418 & 8899600                   & 1/29/2017                 & January                   & 22:00:00                  & 1                         & Eve                       & AGG ASSAULT               & Downtown                 \\\\\n",
       "\t21475 & 8898318                   & 1/11/2017                 & January                   & 18:20:00                  & 1                         & Eve                       & AGG ASSAULT               & Campbellton Road         \\\\\n",
       "\t1023 & 8923019                   & 12/15/2017                & December                  & 11:30:00                  & 1                         & Day                       & LARCENY-NON VEHICLE       & North Buckhead           \\\\\n",
       "\t20721 & 8899045                   & 1/22/2017                 & January                   & 3:24:00                   & 1                         & Morn                      & AGG ASSAULT               & Lindridge/Martin Manor   \\\\\n",
       "\t18610 & 8901741                   & 3/4/2017                  & March                     & 18:00:00                  & 1                         & Eve                       & LARCENY-NON VEHICLE       & Midtown                  \\\\\n",
       "\t17230 & 8903477                   & 4/4/2017                  & April                     & 20:50:00                  & 1                         & Eve                       & BURGLARY-RESIDENCE        & Ormewood Park            \\\\\n",
       "\t20158 & 8899857                   & 2/2/2017                  & February                  & 19:00:00                  & 1                         & Eve                       & AGG ASSAULT               & West End                 \\\\\n",
       "\t6862 & 8916054                   & 9/19/2017                 & September                 & 20:30:00                  & 1                         & Eve                       & LARCENY-FROM VEHICLE      & Blair Villa/Poole Creek  \\\\\n",
       "\t10878 & 8911136                   & 7/18/2017                 & July                      & 16:30:00                  & 1                         & Eve                       & AGG ASSAULT               & Center Hill              \\\\\n",
       "\t11007 & 8910977                   & 7/16/2017                 & July                      & 0:05:00                   & 1                         & Morn                      & LARCENY-FROM VEHICLE      & Benteen Park             \\\\\n",
       "\t1496 & 8922406                   & 12/7/2017                 & December                  & 23:23:00                  & 1                         & Morn                      & LARCENY-FROM VEHICLE      & Inman Park               \\\\\n",
       "\t8615 & 8913920                   & 8/23/2017                 & August                    & 19:30:00                  & 1                         & Eve                       & LARCENY-NON VEHICLE       & Edgewood                 \\\\\n",
       "\t17127 & 8903548                   & 4/6/2017                  & April                     & 7:53:00                   & 1                         & Day                       & LARCENY-FROM VEHICLE      & Old Fourth Ward          \\\\\n",
       "\t7392 & 8915331                   & 9/10/2017                 & September                 & 21:20:00                  & 1                         & Eve                       & AUTO THEFT                & Cascade Heights          \\\\\n",
       "\t604 & 8923503                   & 12/21/2017                & December                  & 5:30:00                   & 1                         & Day                       & LARCENY-FROM VEHICLE      & Mechanicsville           \\\\\n",
       "\t5497 & 8917635                   & 10/9/2017                 & October                   & 15:00:00                  & 1                         & Eve                       & LARCENY-FROM VEHICLE      & Underwood Hills          \\\\\n",
       "\t... & ... & ... & ... & ... & ... & ... & ... & ...\\\\\n",
       "\t11202 & 8910677                    & 7/12/2017                  & July                       & 19:00:00                   & 1                          & Morn                       & BURGLARY-NONRES            & Glenrose Heights          \\\\\n",
       "\t7971 & 8914660                    & 9/2/2017                   & September                  & 15:25:00                   & 1                          & Eve                        & AGG ASSAULT                & East Atlanta              \\\\\n",
       "\t5587 & 8917561                    & 10/8/2017                  & October                    & 18:00:00                   & 4                          & Eve                        & LARCENY-FROM VEHICLE       & Loring Heights            \\\\\n",
       "\t14209 & 8907116                    & 5/25/2017                  & May                        & 8:08:00                    & 1                          & Eve                        & LARCENY-FROM VEHICLE       & Grant Park                \\\\\n",
       "\t9168 & 8913193                    & 8/14/2017                  & August                     & 19:22:00                   & 1                          & Eve                        & LARCENY-FROM VEHICLE       & Chastain Park             \\\\\n",
       "\t19454 & 8900690                    & 2/15/2017                  & February                   & 18:00:00                   & 2                          & Eve                        & LARCENY-FROM VEHICLE       & Kings Forest              \\\\\n",
       "\t8195 & 8914369                    & 8/29/2017                  & August                     & 15:55:00                   & 1                          & Eve                        & LARCENY-NON VEHICLE        & Perkerson                 \\\\\n",
       "\t3656 & 8919820                    & 11/5/2017                  & November                   & 3:30:00                    & 1                          & Morn                       & AUTO THEFT                 & Peachtree Battle Alliance \\\\\n",
       "\t16705 & 8904016                    & 4/13/2017                  & April                      & 6:30:00                    & 1                          & Morn                       & BURGLARY-RESIDENCE         & Edgewood                  \\\\\n",
       "\t17091 & 8903575                    & 4/6/2017                   & April                      & 13:20:00                   & 1                          & Day                        & LARCENY-NON VEHICLE        & West Paces Ferry/Northside\\\\\n",
       "\t843 & 8923148                    & 12/16/2017                 & December                   & 20:00:00                   & 1                          & Eve                        & LARCENY-NON VEHICLE        & Bankhead                  \\\\\n",
       "\t2426 & 8921253                    & 11/23/2017                 & November                   & 2:00:00                    & 1                          & Morn                       & LARCENY-NON VEHICLE        & Downtown                  \\\\\n",
       "\t10442 & 8911658                    & 3/25/2017                  & March                      & 12:00:00                   & 1                          & Day                        & LARCENY-FROM VEHICLE       & Peoplestown               \\\\\n",
       "\t1384 & 8922496                    & 12/9/2017                  & December                   & 3:00:00                    & 1                          & Morn                       & LARCENY-FROM VEHICLE       & Glenrose Heights          \\\\\n",
       "\t9364 & 8912933                    & 8/11/2017                  & August                     & 11:30:00                   & 1                          & Day                        & LARCENY-NON VEHICLE        & Piedmont Heights          \\\\\n",
       "\t16142 & 8904726                    & 4/23/2017                  & April                      & 4:00:00                    & 4                          & Morn                       & LARCENY-FROM VEHICLE       & Midtown                   \\\\\n",
       "\t19099 & 8901086                    & 2/21/2017                  & February                   & 1:00:00                    & 1                          & Morn                       & LARCENY-FROM VEHICLE       & Home Park                 \\\\\n",
       "\t9252 & 8913108                    & 8/13/2017                  & August                     & 21:34:00                   & 1                          & Eve                        & LARCENY-FROM VEHICLE       & Berkeley Park             \\\\\n",
       "\t9342 & 8913042                    & 8/12/2017                  & August                     & 19:30:00                   & 1                          & Eve                        & LARCENY-NON VEHICLE        & Lake Claire               \\\\\n",
       "\t12871 & 8908725                    & 6/16/2017                  & June                       & 8:00:00                    & 1                          & Day                        & LARCENY-NON VEHICLE        & East Lake                 \\\\\n",
       "\t8164 & 8914328                    & 8/28/2017                  & August                     & 22:00:00                   & 1                          & Morn                       & LARCENY-FROM VEHICLE       & Bolton                    \\\\\n",
       "\t20163 & 8899864                    & 2/2/2017                   & February                   & 17:00:00                   & 1                          & Eve                        & LARCENY-FROM VEHICLE       & Poncey-Highland           \\\\\n",
       "\t10855 & 8911107                    & 7/18/2017                  & July                       & 8:00:00                    & 1                          & Day                        & LARCENY-NON VEHICLE        & Old Fourth Ward           \\\\\n",
       "\t9225 & 8913172                    & 8/14/2017                  & August                     & 3:00:00                    & 1                          & Morn                       & LARCENY-FROM VEHICLE       & The Villages at Carver    \\\\\n",
       "\t21051 & 8898788                    & 1/18/2017                  & January                    & 12:00:00                   & 1                          & Day                        & AGG ASSAULT                & Chosewood Park            \\\\\n",
       "\t5334 & 8917780                    & 10/11/2017                 & October                    & 13:40:00                   & 1                          & Day                        & LARCENY-FROM VEHICLE       & Mt. Paran/Northside       \\\\\n",
       "\t13390 & 8908140                    & 6/8/2017                   & June                       & 21:55:00                   & 1                          & Eve                        & LARCENY-FROM VEHICLE       & Midtown                   \\\\\n",
       "\t427 & 8923650                    & 12/22/2017                 & December                   & 22:50:00                   & 1                          & Morn                       & BURGLARY-NONRES            & Downtown                  \\\\\n",
       "\t9896 & 8912332                    & 7/24/2017                  & July                       & 7:00:00                    & 1                          & Day                        & AGG ASSAULT                & Midtown                   \\\\\n",
       "\t15839 & 8905094                    & 4/28/2017                  & April                      & 8:30:00                    & 0                          & Day                        & LARCENY-NON VEHICLE        & Downtown                  \\\\\n",
       "\\end{tabular}\n"
      ],
      "text/markdown": [
       "\n",
       "| <!--/--> | MI_PRINX | occur_date | Month | occur_time | MaxOfnum_victims | Shift | UC2 Literal | neighborhood | \n",
       "|---|---|---|---|---|---|---|---|---|---|---|---|---|---|---|---|---|---|---|---|---|---|---|---|---|---|---|---|---|---|---|---|---|---|---|---|---|---|---|---|---|---|---|---|---|---|---|---|---|---|---|---|---|---|---|---|---|---|---|---|---|\n",
       "| 8693 | 8913724                   | 8/20/2017                 | August                    | 20:07:00                  | 1                         | Eve                       | LARCENY-FROM VEHICLE      | Mechanicsville            | \n",
       "| 20238 | 8899794                   | 2/1/2017                  | February                  | 18:25:00                  | 1                         | Eve                       | AUTO THEFT                | Grove Park                | \n",
       "| 9626 | 8912600                   | 8/6/2017                  | August                    | 0:30:00                   | 1                         | Morn                      | LARCENY-FROM VEHICLE      | Buckhead Forest           | \n",
       "| 342 | 8923794                   | 12/25/2017                | December                  | 1:00:00                   | 1                         | Morn                      | AUTO THEFT                | Cascade Avenue/Road       | \n",
       "| 4955 | 8917046                   | 10/2/2017                 | October                   | 4:30:00                   | 1                         | Morn                      | AUTO THEFT                | Greenbriar                | \n",
       "| 17212 | 8903452                   | 4/4/2017                  | April                     | 12:00:00                  | 1                         | Day                       | LARCENY-NON VEHICLE       | Castleberry Hill          | \n",
       "| 2989 | 8920546                   | 11/14/2017                | November                  | 6:50:00                   | 1                         | Morn                      | AUTO THEFT                | Princeton Lakes           | \n",
       "| 12466 | 8909165                   | 6/21/2017                 | June                      | 10:00:00                  | 2                         | Day                       | LARCENY-NON VEHICLE       | Garden Hills              | \n",
       "| 7729 | 8914901                   | 9/5/2017                  | September                 | 12:15:00                  | 1                         | Day                       | LARCENY-FROM VEHICLE      | Ormewood Park             | \n",
       "| 7330 | 8915477                   | 9/12/2017                 | September                 | 19:30:00                  | 1                         | Eve                       | LARCENY-FROM VEHICLE      | Lindridge/Martin Manor    | \n",
       "| 18445 | 8901905                   | 3/7/2017                  | March                     | 9:50:00                   | 1                         | Day                       | LARCENY-FROM VEHICLE      | Oakland City              | \n",
       "| 14884 | 8906246                   | 5/9/2017                  | May                       | 7:45:00                   | 1                         | Day                       | LARCENY-NON VEHICLE       | Old Fourth Ward           | \n",
       "| 3126 | 8920432                   | 11/12/2017                | November                  | 18:00:00                  | 1                         | Eve                       | AUTO THEFT                | Atlanta University Center | \n",
       "| 12604 | 8909037                   | 6/20/2017                 | June                      | 20:20:00                  | 1                         | Eve                       | AUTO THEFT                | Downtown                  | \n",
       "| 20418 | 8899600                   | 1/29/2017                 | January                   | 22:00:00                  | 1                         | Eve                       | AGG ASSAULT               | Downtown                  | \n",
       "| 21475 | 8898318                   | 1/11/2017                 | January                   | 18:20:00                  | 1                         | Eve                       | AGG ASSAULT               | Campbellton Road          | \n",
       "| 1023 | 8923019                   | 12/15/2017                | December                  | 11:30:00                  | 1                         | Day                       | LARCENY-NON VEHICLE       | North Buckhead            | \n",
       "| 20721 | 8899045                   | 1/22/2017                 | January                   | 3:24:00                   | 1                         | Morn                      | AGG ASSAULT               | Lindridge/Martin Manor    | \n",
       "| 18610 | 8901741                   | 3/4/2017                  | March                     | 18:00:00                  | 1                         | Eve                       | LARCENY-NON VEHICLE       | Midtown                   | \n",
       "| 17230 | 8903477                   | 4/4/2017                  | April                     | 20:50:00                  | 1                         | Eve                       | BURGLARY-RESIDENCE        | Ormewood Park             | \n",
       "| 20158 | 8899857                   | 2/2/2017                  | February                  | 19:00:00                  | 1                         | Eve                       | AGG ASSAULT               | West End                  | \n",
       "| 6862 | 8916054                   | 9/19/2017                 | September                 | 20:30:00                  | 1                         | Eve                       | LARCENY-FROM VEHICLE      | Blair Villa/Poole Creek   | \n",
       "| 10878 | 8911136                   | 7/18/2017                 | July                      | 16:30:00                  | 1                         | Eve                       | AGG ASSAULT               | Center Hill               | \n",
       "| 11007 | 8910977                   | 7/16/2017                 | July                      | 0:05:00                   | 1                         | Morn                      | LARCENY-FROM VEHICLE      | Benteen Park              | \n",
       "| 1496 | 8922406                   | 12/7/2017                 | December                  | 23:23:00                  | 1                         | Morn                      | LARCENY-FROM VEHICLE      | Inman Park                | \n",
       "| 8615 | 8913920                   | 8/23/2017                 | August                    | 19:30:00                  | 1                         | Eve                       | LARCENY-NON VEHICLE       | Edgewood                  | \n",
       "| 17127 | 8903548                   | 4/6/2017                  | April                     | 7:53:00                   | 1                         | Day                       | LARCENY-FROM VEHICLE      | Old Fourth Ward           | \n",
       "| 7392 | 8915331                   | 9/10/2017                 | September                 | 21:20:00                  | 1                         | Eve                       | AUTO THEFT                | Cascade Heights           | \n",
       "| 604 | 8923503                   | 12/21/2017                | December                  | 5:30:00                   | 1                         | Day                       | LARCENY-FROM VEHICLE      | Mechanicsville            | \n",
       "| 5497 | 8917635                   | 10/9/2017                 | October                   | 15:00:00                  | 1                         | Eve                       | LARCENY-FROM VEHICLE      | Underwood Hills           | \n",
       "| ... | ... | ... | ... | ... | ... | ... | ... | ... | \n",
       "| 11202 | 8910677                    | 7/12/2017                  | July                       | 19:00:00                   | 1                          | Morn                       | BURGLARY-NONRES            | Glenrose Heights           | \n",
       "| 7971 | 8914660                    | 9/2/2017                   | September                  | 15:25:00                   | 1                          | Eve                        | AGG ASSAULT                | East Atlanta               | \n",
       "| 5587 | 8917561                    | 10/8/2017                  | October                    | 18:00:00                   | 4                          | Eve                        | LARCENY-FROM VEHICLE       | Loring Heights             | \n",
       "| 14209 | 8907116                    | 5/25/2017                  | May                        | 8:08:00                    | 1                          | Eve                        | LARCENY-FROM VEHICLE       | Grant Park                 | \n",
       "| 9168 | 8913193                    | 8/14/2017                  | August                     | 19:22:00                   | 1                          | Eve                        | LARCENY-FROM VEHICLE       | Chastain Park              | \n",
       "| 19454 | 8900690                    | 2/15/2017                  | February                   | 18:00:00                   | 2                          | Eve                        | LARCENY-FROM VEHICLE       | Kings Forest               | \n",
       "| 8195 | 8914369                    | 8/29/2017                  | August                     | 15:55:00                   | 1                          | Eve                        | LARCENY-NON VEHICLE        | Perkerson                  | \n",
       "| 3656 | 8919820                    | 11/5/2017                  | November                   | 3:30:00                    | 1                          | Morn                       | AUTO THEFT                 | Peachtree Battle Alliance  | \n",
       "| 16705 | 8904016                    | 4/13/2017                  | April                      | 6:30:00                    | 1                          | Morn                       | BURGLARY-RESIDENCE         | Edgewood                   | \n",
       "| 17091 | 8903575                    | 4/6/2017                   | April                      | 13:20:00                   | 1                          | Day                        | LARCENY-NON VEHICLE        | West Paces Ferry/Northside | \n",
       "| 843 | 8923148                    | 12/16/2017                 | December                   | 20:00:00                   | 1                          | Eve                        | LARCENY-NON VEHICLE        | Bankhead                   | \n",
       "| 2426 | 8921253                    | 11/23/2017                 | November                   | 2:00:00                    | 1                          | Morn                       | LARCENY-NON VEHICLE        | Downtown                   | \n",
       "| 10442 | 8911658                    | 3/25/2017                  | March                      | 12:00:00                   | 1                          | Day                        | LARCENY-FROM VEHICLE       | Peoplestown                | \n",
       "| 1384 | 8922496                    | 12/9/2017                  | December                   | 3:00:00                    | 1                          | Morn                       | LARCENY-FROM VEHICLE       | Glenrose Heights           | \n",
       "| 9364 | 8912933                    | 8/11/2017                  | August                     | 11:30:00                   | 1                          | Day                        | LARCENY-NON VEHICLE        | Piedmont Heights           | \n",
       "| 16142 | 8904726                    | 4/23/2017                  | April                      | 4:00:00                    | 4                          | Morn                       | LARCENY-FROM VEHICLE       | Midtown                    | \n",
       "| 19099 | 8901086                    | 2/21/2017                  | February                   | 1:00:00                    | 1                          | Morn                       | LARCENY-FROM VEHICLE       | Home Park                  | \n",
       "| 9252 | 8913108                    | 8/13/2017                  | August                     | 21:34:00                   | 1                          | Eve                        | LARCENY-FROM VEHICLE       | Berkeley Park              | \n",
       "| 9342 | 8913042                    | 8/12/2017                  | August                     | 19:30:00                   | 1                          | Eve                        | LARCENY-NON VEHICLE        | Lake Claire                | \n",
       "| 12871 | 8908725                    | 6/16/2017                  | June                       | 8:00:00                    | 1                          | Day                        | LARCENY-NON VEHICLE        | East Lake                  | \n",
       "| 8164 | 8914328                    | 8/28/2017                  | August                     | 22:00:00                   | 1                          | Morn                       | LARCENY-FROM VEHICLE       | Bolton                     | \n",
       "| 20163 | 8899864                    | 2/2/2017                   | February                   | 17:00:00                   | 1                          | Eve                        | LARCENY-FROM VEHICLE       | Poncey-Highland            | \n",
       "| 10855 | 8911107                    | 7/18/2017                  | July                       | 8:00:00                    | 1                          | Day                        | LARCENY-NON VEHICLE        | Old Fourth Ward            | \n",
       "| 9225 | 8913172                    | 8/14/2017                  | August                     | 3:00:00                    | 1                          | Morn                       | LARCENY-FROM VEHICLE       | The Villages at Carver     | \n",
       "| 21051 | 8898788                    | 1/18/2017                  | January                    | 12:00:00                   | 1                          | Day                        | AGG ASSAULT                | Chosewood Park             | \n",
       "| 5334 | 8917780                    | 10/11/2017                 | October                    | 13:40:00                   | 1                          | Day                        | LARCENY-FROM VEHICLE       | Mt. Paran/Northside        | \n",
       "| 13390 | 8908140                    | 6/8/2017                   | June                       | 21:55:00                   | 1                          | Eve                        | LARCENY-FROM VEHICLE       | Midtown                    | \n",
       "| 427 | 8923650                    | 12/22/2017                 | December                   | 22:50:00                   | 1                          | Morn                       | BURGLARY-NONRES            | Downtown                   | \n",
       "| 9896 | 8912332                    | 7/24/2017                  | July                       | 7:00:00                    | 1                          | Day                        | AGG ASSAULT                | Midtown                    | \n",
       "| 15839 | 8905094                    | 4/28/2017                  | April                      | 8:30:00                    | 0                          | Day                        | LARCENY-NON VEHICLE        | Downtown                   | \n",
       "\n",
       "\n"
      ],
      "text/plain": [
       "      MI_PRINX occur_date Month     occur_time MaxOfnum_victims Shift\n",
       "8693  8913724  8/20/2017  August    20:07:00   1                Eve  \n",
       "20238 8899794  2/1/2017   February  18:25:00   1                Eve  \n",
       "9626  8912600  8/6/2017   August    0:30:00    1                Morn \n",
       "342   8923794  12/25/2017 December  1:00:00    1                Morn \n",
       "4955  8917046  10/2/2017  October   4:30:00    1                Morn \n",
       "17212 8903452  4/4/2017   April     12:00:00   1                Day  \n",
       "2989  8920546  11/14/2017 November  6:50:00    1                Morn \n",
       "12466 8909165  6/21/2017  June      10:00:00   2                Day  \n",
       "7729  8914901  9/5/2017   September 12:15:00   1                Day  \n",
       "7330  8915477  9/12/2017  September 19:30:00   1                Eve  \n",
       "18445 8901905  3/7/2017   March     9:50:00    1                Day  \n",
       "14884 8906246  5/9/2017   May       7:45:00    1                Day  \n",
       "3126  8920432  11/12/2017 November  18:00:00   1                Eve  \n",
       "12604 8909037  6/20/2017  June      20:20:00   1                Eve  \n",
       "20418 8899600  1/29/2017  January   22:00:00   1                Eve  \n",
       "21475 8898318  1/11/2017  January   18:20:00   1                Eve  \n",
       "1023  8923019  12/15/2017 December  11:30:00   1                Day  \n",
       "20721 8899045  1/22/2017  January   3:24:00    1                Morn \n",
       "18610 8901741  3/4/2017   March     18:00:00   1                Eve  \n",
       "17230 8903477  4/4/2017   April     20:50:00   1                Eve  \n",
       "20158 8899857  2/2/2017   February  19:00:00   1                Eve  \n",
       "6862  8916054  9/19/2017  September 20:30:00   1                Eve  \n",
       "10878 8911136  7/18/2017  July      16:30:00   1                Eve  \n",
       "11007 8910977  7/16/2017  July      0:05:00    1                Morn \n",
       "1496  8922406  12/7/2017  December  23:23:00   1                Morn \n",
       "8615  8913920  8/23/2017  August    19:30:00   1                Eve  \n",
       "17127 8903548  4/6/2017   April     7:53:00    1                Day  \n",
       "7392  8915331  9/10/2017  September 21:20:00   1                Eve  \n",
       "604   8923503  12/21/2017 December  5:30:00    1                Day  \n",
       "5497  8917635  10/9/2017  October   15:00:00   1                Eve  \n",
       "...   ...      ...        ...       ...        ...              ...  \n",
       "11202 8910677  7/12/2017  July      19:00:00   1                Morn \n",
       "7971  8914660  9/2/2017   September 15:25:00   1                Eve  \n",
       "5587  8917561  10/8/2017  October   18:00:00   4                Eve  \n",
       "14209 8907116  5/25/2017  May       8:08:00    1                Eve  \n",
       "9168  8913193  8/14/2017  August    19:22:00   1                Eve  \n",
       "19454 8900690  2/15/2017  February  18:00:00   2                Eve  \n",
       "8195  8914369  8/29/2017  August    15:55:00   1                Eve  \n",
       "3656  8919820  11/5/2017  November  3:30:00    1                Morn \n",
       "16705 8904016  4/13/2017  April     6:30:00    1                Morn \n",
       "17091 8903575  4/6/2017   April     13:20:00   1                Day  \n",
       "843   8923148  12/16/2017 December  20:00:00   1                Eve  \n",
       "2426  8921253  11/23/2017 November  2:00:00    1                Morn \n",
       "10442 8911658  3/25/2017  March     12:00:00   1                Day  \n",
       "1384  8922496  12/9/2017  December  3:00:00    1                Morn \n",
       "9364  8912933  8/11/2017  August    11:30:00   1                Day  \n",
       "16142 8904726  4/23/2017  April     4:00:00    4                Morn \n",
       "19099 8901086  2/21/2017  February  1:00:00    1                Morn \n",
       "9252  8913108  8/13/2017  August    21:34:00   1                Eve  \n",
       "9342  8913042  8/12/2017  August    19:30:00   1                Eve  \n",
       "12871 8908725  6/16/2017  June      8:00:00    1                Day  \n",
       "8164  8914328  8/28/2017  August    22:00:00   1                Morn \n",
       "20163 8899864  2/2/2017   February  17:00:00   1                Eve  \n",
       "10855 8911107  7/18/2017  July      8:00:00    1                Day  \n",
       "9225  8913172  8/14/2017  August    3:00:00    1                Morn \n",
       "21051 8898788  1/18/2017  January   12:00:00   1                Day  \n",
       "5334  8917780  10/11/2017 October   13:40:00   1                Day  \n",
       "13390 8908140  6/8/2017   June      21:55:00   1                Eve  \n",
       "427   8923650  12/22/2017 December  22:50:00   1                Morn \n",
       "9896  8912332  7/24/2017  July      7:00:00    1                Day  \n",
       "15839 8905094  4/28/2017  April     8:30:00    0                Day  \n",
       "      UC2 Literal          neighborhood              \n",
       "8693  LARCENY-FROM VEHICLE Mechanicsville            \n",
       "20238 AUTO THEFT           Grove Park                \n",
       "9626  LARCENY-FROM VEHICLE Buckhead Forest           \n",
       "342   AUTO THEFT           Cascade Avenue/Road       \n",
       "4955  AUTO THEFT           Greenbriar                \n",
       "17212 LARCENY-NON VEHICLE  Castleberry Hill          \n",
       "2989  AUTO THEFT           Princeton Lakes           \n",
       "12466 LARCENY-NON VEHICLE  Garden Hills              \n",
       "7729  LARCENY-FROM VEHICLE Ormewood Park             \n",
       "7330  LARCENY-FROM VEHICLE Lindridge/Martin Manor    \n",
       "18445 LARCENY-FROM VEHICLE Oakland City              \n",
       "14884 LARCENY-NON VEHICLE  Old Fourth Ward           \n",
       "3126  AUTO THEFT           Atlanta University Center \n",
       "12604 AUTO THEFT           Downtown                  \n",
       "20418 AGG ASSAULT          Downtown                  \n",
       "21475 AGG ASSAULT          Campbellton Road          \n",
       "1023  LARCENY-NON VEHICLE  North Buckhead            \n",
       "20721 AGG ASSAULT          Lindridge/Martin Manor    \n",
       "18610 LARCENY-NON VEHICLE  Midtown                   \n",
       "17230 BURGLARY-RESIDENCE   Ormewood Park             \n",
       "20158 AGG ASSAULT          West End                  \n",
       "6862  LARCENY-FROM VEHICLE Blair Villa/Poole Creek   \n",
       "10878 AGG ASSAULT          Center Hill               \n",
       "11007 LARCENY-FROM VEHICLE Benteen Park              \n",
       "1496  LARCENY-FROM VEHICLE Inman Park                \n",
       "8615  LARCENY-NON VEHICLE  Edgewood                  \n",
       "17127 LARCENY-FROM VEHICLE Old Fourth Ward           \n",
       "7392  AUTO THEFT           Cascade Heights           \n",
       "604   LARCENY-FROM VEHICLE Mechanicsville            \n",
       "5497  LARCENY-FROM VEHICLE Underwood Hills           \n",
       "...   ...                  ...                       \n",
       "11202 BURGLARY-NONRES      Glenrose Heights          \n",
       "7971  AGG ASSAULT          East Atlanta              \n",
       "5587  LARCENY-FROM VEHICLE Loring Heights            \n",
       "14209 LARCENY-FROM VEHICLE Grant Park                \n",
       "9168  LARCENY-FROM VEHICLE Chastain Park             \n",
       "19454 LARCENY-FROM VEHICLE Kings Forest              \n",
       "8195  LARCENY-NON VEHICLE  Perkerson                 \n",
       "3656  AUTO THEFT           Peachtree Battle Alliance \n",
       "16705 BURGLARY-RESIDENCE   Edgewood                  \n",
       "17091 LARCENY-NON VEHICLE  West Paces Ferry/Northside\n",
       "843   LARCENY-NON VEHICLE  Bankhead                  \n",
       "2426  LARCENY-NON VEHICLE  Downtown                  \n",
       "10442 LARCENY-FROM VEHICLE Peoplestown               \n",
       "1384  LARCENY-FROM VEHICLE Glenrose Heights          \n",
       "9364  LARCENY-NON VEHICLE  Piedmont Heights          \n",
       "16142 LARCENY-FROM VEHICLE Midtown                   \n",
       "19099 LARCENY-FROM VEHICLE Home Park                 \n",
       "9252  LARCENY-FROM VEHICLE Berkeley Park             \n",
       "9342  LARCENY-NON VEHICLE  Lake Claire               \n",
       "12871 LARCENY-NON VEHICLE  East Lake                 \n",
       "8164  LARCENY-FROM VEHICLE Bolton                    \n",
       "20163 LARCENY-FROM VEHICLE Poncey-Highland           \n",
       "10855 LARCENY-NON VEHICLE  Old Fourth Ward           \n",
       "9225  LARCENY-FROM VEHICLE The Villages at Carver    \n",
       "21051 AGG ASSAULT          Chosewood Park            \n",
       "5334  LARCENY-FROM VEHICLE Mt. Paran/Northside       \n",
       "13390 LARCENY-FROM VEHICLE Midtown                   \n",
       "427   BURGLARY-NONRES      Downtown                  \n",
       "9896  AGG ASSAULT          Midtown                   \n",
       "15839 LARCENY-NON VEHICLE  Downtown                  "
      ]
     },
     "metadata": {},
     "output_type": "display_data"
    },
    {
     "ename": "ERROR",
     "evalue": "Error in model.frame.default(form = as.factor(traindata1$UC2.Literal) ~ : variable lengths differ (found for 'MI_PRINX')\n",
     "output_type": "error",
     "traceback": [
      "Error in model.frame.default(form = as.factor(traindata1$UC2.Literal) ~ : variable lengths differ (found for 'MI_PRINX')\nTraceback:\n",
      "1. train(as.factor(traindata1$UC2.Literal) ~ ., data = traindata1, \n .     method = \"gbm\", trControl = fitControl, verbose = FALSE)",
      "2. train.formula(as.factor(traindata1$UC2.Literal) ~ ., data = traindata1, \n .     method = \"gbm\", trControl = fitControl, verbose = FALSE)",
      "3. eval.parent(m)",
      "4. eval(expr, p)",
      "5. eval(expr, p)",
      "6. stats::model.frame(form = as.factor(traindata1$UC2.Literal) ~ \n .     ., data = traindata1, na.action = na.fail)",
      "7. model.frame.default(form = as.factor(traindata1$UC2.Literal) ~ \n .     ., data = traindata1, na.action = na.fail)"
     ]
    }
   ],
   "source": [
    "#mtry=floor(sqrt(p))and ntree=500.\n",
    "\n",
    "main1 = data.table::fread(\"F:/2018 Spring/STAT689/Project/689_crimes.csv\",header=TRUE)\n",
    "\n",
    "traindata1=as.data.frame(main1)\n",
    "train1=sample(1:nrow(traindata1),size=0.7*nrow(traindata1))\n",
    "traindata1=traindata1[train1,]\n",
    "testdata1=traindata1[-train1,]\n",
    "test1 = testdata1[,-7]\n",
    "test1\n",
    "fitControl <- trainControl(method = \"repeatedcv\", number = 5, repeats = 1)\n",
    "\n",
    "set.seed(33)\n",
    "gbmFit1 <- train(as.factor(traindata1$UC2.Literal) ~ ., data = traindata1, method = \"gbm\", trControl = fitControl,verbose = FALSE)\n",
    "gbm_dev <- predict(gbmFit1, test1,type= \"raw\")\n",
    "gbm_dev_p <- predict(gbmFit1, test1,type= \"prob\")\n",
    "gbm_dev\n",
    "gbm_dev_p\n",
    "\n",
    "auc(as.factor(testdata1$UC2.Literal),as.factor(gbm_dev))\n",
    "\n",
    "\n",
    "# rf3.cf = table(gbm_dev,testdata1$UC2.Literal)\n",
    "# rf3.cfpc=rf3.cf\n",
    "# k=0; m=0\n",
    "# for (i in 1:10) {\n",
    "#   for (j in 1:10)\n",
    "#   {\n",
    "#     rf3.cfpc[i,j] = round(rf3.cf[i,j]/sum(rf3.cf[,j])*100,2)\n",
    "#     if (i==j)\n",
    "#     {k=k+rf3.cf[i,j]}\n",
    "#     m=m+rf3.cf[i,j]\n",
    "#   }\n",
    "# }\n",
    "# rf3.cfpc #Confusion matrix in percentages\n",
    "# acc=k/m*100\n",
    "# print(acc)"
   ]
  },
  {
   "cell_type": "markdown",
   "metadata": {},
   "source": [
    "## Artificial Neural Network"
   ]
  },
  {
   "cell_type": "markdown",
   "metadata": {},
   "source": [
    "#### As defined by Wikipedia, An Artificial Neural Network (ANN) is an information processing paradigm that is inspired by the way biological nervous systems, such as the brain, process information. The novelty of neural network lies in the way it learns from the given input trends to predict output. Neural network consists of a large network of interconnected units/nodes called as neurons which carry the information through various layers. Neural networks have the remarkable ability of learning through imprecise data or patterns to derive meaningful output.\n",
    "\n",
    "#### A neural network typically consists of 3 layers: input layer, output layer, and hidden layer which converts the input in a form which is readable or useable by the output layer. The node multiplies each of the inputs by some weight and the sum is then passed to an activation function."
   ]
  }
 ],
 "metadata": {
  "kernelspec": {
   "display_name": "R",
   "language": "R",
   "name": "ir"
  },
  "language_info": {
   "codemirror_mode": "r",
   "file_extension": ".r",
   "mimetype": "text/x-r-source",
   "name": "R",
   "pygments_lexer": "r",
   "version": "3.4.2"
  }
 },
 "nbformat": 4,
 "nbformat_minor": 2
}
